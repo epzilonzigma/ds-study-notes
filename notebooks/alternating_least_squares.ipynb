{
 "cells": [
  {
   "cell_type": "markdown",
   "metadata": {},
   "source": [
    "# Alternating Least Square Implementation"
   ]
  },
  {
   "cell_type": "markdown",
   "metadata": {},
   "source": [
    "Matrix factorization by alternating least squares."
   ]
  },
  {
   "cell_type": "code",
   "execution_count": 1,
   "metadata": {},
   "outputs": [],
   "source": [
    "import numpy as np\n",
    "import pandas as pd"
   ]
  },
  {
   "cell_type": "markdown",
   "metadata": {},
   "source": [
    "## Intuition\n",
    "\n",
    "First build some intuition by manually executing the 2 iterations"
   ]
  },
  {
   "cell_type": "code",
   "execution_count": 2,
   "metadata": {},
   "outputs": [
    {
     "data": {
      "text/html": [
       "<div>\n",
       "<style scoped>\n",
       "    .dataframe tbody tr th:only-of-type {\n",
       "        vertical-align: middle;\n",
       "    }\n",
       "\n",
       "    .dataframe tbody tr th {\n",
       "        vertical-align: top;\n",
       "    }\n",
       "\n",
       "    .dataframe thead th {\n",
       "        text-align: right;\n",
       "    }\n",
       "</style>\n",
       "<table border=\"1\" class=\"dataframe\">\n",
       "  <thead>\n",
       "    <tr style=\"text-align: right;\">\n",
       "      <th></th>\n",
       "      <th>User</th>\n",
       "      <th>Movie</th>\n",
       "      <th>Rating</th>\n",
       "    </tr>\n",
       "  </thead>\n",
       "  <tbody>\n",
       "    <tr>\n",
       "      <th>0</th>\n",
       "      <td>Lisa Rose</td>\n",
       "      <td>Lady in the Water</td>\n",
       "      <td>2.5</td>\n",
       "    </tr>\n",
       "    <tr>\n",
       "      <th>1</th>\n",
       "      <td>Lisa Rose</td>\n",
       "      <td>Snakes on a Plane</td>\n",
       "      <td>3.5</td>\n",
       "    </tr>\n",
       "    <tr>\n",
       "      <th>2</th>\n",
       "      <td>Lisa Rose</td>\n",
       "      <td>Just My Luck</td>\n",
       "      <td>3.0</td>\n",
       "    </tr>\n",
       "    <tr>\n",
       "      <th>3</th>\n",
       "      <td>Lisa Rose</td>\n",
       "      <td>Superman Returns</td>\n",
       "      <td>3.5</td>\n",
       "    </tr>\n",
       "    <tr>\n",
       "      <th>4</th>\n",
       "      <td>Lisa Rose</td>\n",
       "      <td>You, Me and Dupree</td>\n",
       "      <td>2.5</td>\n",
       "    </tr>\n",
       "  </tbody>\n",
       "</table>\n",
       "</div>"
      ],
      "text/plain": [
       "        User               Movie  Rating\n",
       "0  Lisa Rose   Lady in the Water     2.5\n",
       "1  Lisa Rose   Snakes on a Plane     3.5\n",
       "2  Lisa Rose        Just My Luck     3.0\n",
       "3  Lisa Rose    Superman Returns     3.5\n",
       "4  Lisa Rose  You, Me and Dupree     2.5"
      ]
     },
     "execution_count": 2,
     "metadata": {},
     "output_type": "execute_result"
    }
   ],
   "source": [
    "df = pd.read_csv(\"../data/critics/critics.csv\")\n",
    "df.head()"
   ]
  },
  {
   "cell_type": "code",
   "execution_count": 3,
   "metadata": {},
   "outputs": [
    {
     "data": {
      "text/plain": [
       "array([[3. , nan, 3.5, 4. , 4.5, 2.5],\n",
       "       [1.5, 3. , 3.5, 5. , 3. , 3.5],\n",
       "       [nan, 3. , 4. , 5. , 3. , 3.5],\n",
       "       [3. , 2.5, 3.5, 3.5, 3. , 2.5],\n",
       "       [nan, 2.5, 3. , 3.5, 4. , nan],\n",
       "       [2. , 3. , 4. , 3. , 3. , 2. ],\n",
       "       [nan, nan, 4.5, 4. , nan, 1. ]])"
      ]
     },
     "execution_count": 3,
     "metadata": {},
     "output_type": "execute_result"
    }
   ],
   "source": [
    "user_product_matrix = df.pivot(index=\"User\", columns=\"Movie\", values=\"Rating\").to_numpy()\n",
    "user_product_matrix"
   ]
  },
  {
   "cell_type": "markdown",
   "metadata": {},
   "source": [
    "We will try to factorize the matrix above with 3 latent factors."
   ]
  },
  {
   "cell_type": "markdown",
   "metadata": {},
   "source": [
    "### 1. Initialize User Matrix"
   ]
  },
  {
   "cell_type": "code",
   "execution_count": 4,
   "metadata": {},
   "outputs": [
    {
     "data": {
      "text/plain": [
       "array([[-0.030671  ,  0.06342017, -0.13078589],\n",
       "       [-1.33277787,  0.34912523, -0.26002749],\n",
       "       [-0.18881152, -0.61877083, -1.18733841],\n",
       "       [ 0.7716916 , -0.12645649,  1.27510558],\n",
       "       [ 0.03103979,  0.30318645, -0.08314291],\n",
       "       [-0.53745464,  0.51625971,  0.93776223],\n",
       "       [-0.44025033, -0.51312388, -0.46529026]])"
      ]
     },
     "execution_count": 4,
     "metadata": {},
     "output_type": "execute_result"
    }
   ],
   "source": [
    "# initialize user matrix\n",
    "\n",
    "u_init = np.random.normal(0, 1/np.sqrt(3), size = (user_product_matrix.shape[0], 3))\n",
    "u_init"
   ]
  },
  {
   "cell_type": "code",
   "execution_count": 5,
   "metadata": {},
   "outputs": [],
   "source": [
    "def calculate_ols_coefficients(X, y, l=0):\n",
    "    X_2 = X.T @ X\n",
    "    X_y = X.T @ y\n",
    "    l_i = l * np.eye(X_2.shape[0])\n",
    "\n",
    "    coeff = np.linalg.inv(X_2 + l_i) @ X_y\n",
    "    return coeff"
   ]
  },
  {
   "cell_type": "markdown",
   "metadata": {},
   "source": [
    "### 2. Calculate product matrix v with initialized user matrix"
   ]
  },
  {
   "cell_type": "code",
   "execution_count": 6,
   "metadata": {},
   "outputs": [
    {
     "data": {
      "text/plain": [
       "array([[-0.72561429,  0.60546413,  2.00207213],\n",
       "       [-2.61402277, -2.16414477,  1.52306013],\n",
       "       [-3.95924838, -4.34043851,  2.27087587],\n",
       "       [-4.12350373, -3.97454506,  1.66673098],\n",
       "       [-1.71926379, -0.12470231,  0.80373967],\n",
       "       [-2.93567944, -3.46958596,  1.63495846]])"
      ]
     },
     "execution_count": 6,
     "metadata": {},
     "output_type": "execute_result"
    }
   ],
   "source": [
    "v = []\n",
    "\n",
    "for j in range(user_product_matrix.shape[1]):\n",
    "    dataset = np.hstack((u_init, np.expand_dims(user_product_matrix[:, j], axis = 1)))\n",
    "    dataset = dataset[~np.isnan(dataset).any(axis = 1)]\n",
    "    X = dataset[:, :-1]\n",
    "    y = dataset[:, -1]\n",
    "    coefficients = calculate_ols_coefficients(X, y, 0.1)\n",
    "    v.append(coefficients)\n",
    "\n",
    "v = np.array(v)\n",
    "v\n"
   ]
  },
  {
   "cell_type": "markdown",
   "metadata": {},
   "source": [
    "### 3. (2nd iteration) calculate user matrix u with estimated v matrix in previous iteration"
   ]
  },
  {
   "cell_type": "code",
   "execution_count": 7,
   "metadata": {},
   "outputs": [
    {
     "data": {
      "text/plain": [
       "array([[-2.33057517,  1.45832795,  0.27647832],\n",
       "       [-1.76604783,  0.59646196, -0.11455789],\n",
       "       [-1.74584558,  0.4769962 , -0.22899681],\n",
       "       [-1.29034272,  0.78224461,  0.77336061],\n",
       "       [-2.04994469,  1.40212074,  0.36592875],\n",
       "       [-1.38118039,  0.6993728 ,  0.41881665],\n",
       "       [-2.00357272,  1.53034833,  1.02942299]])"
      ]
     },
     "execution_count": 7,
     "metadata": {},
     "output_type": "execute_result"
    }
   ],
   "source": [
    "user_product_matrix_T = user_product_matrix.T\n",
    "u = []\n",
    "\n",
    "for j in range(0, user_product_matrix_T.shape[1]):\n",
    "    dataset = np.hstack((v, np.expand_dims(user_product_matrix_T[:, j], axis = 1)))\n",
    "    dataset = dataset[~np.isnan(dataset).any(axis = 1)]\n",
    "    X = dataset[:, :-1]\n",
    "    y = dataset[:, -1]\n",
    "    coefficients = calculate_ols_coefficients(X, y, 0.1)\n",
    "    u.append(coefficients)\n",
    "\n",
    "u = np.array(u)\n",
    "u"
   ]
  },
  {
   "cell_type": "markdown",
   "metadata": {},
   "source": [
    "### 3. (2nd iteration) calculate product matrix v with estimated u matrix in 1st half of iteration"
   ]
  },
  {
   "cell_type": "code",
   "execution_count": 8,
   "metadata": {},
   "outputs": [
    {
     "data": {
      "text/plain": [
       "array([[-0.75399798,  0.58568827,  1.63172586],\n",
       "       [-2.09919028, -1.17161865,  0.83809726],\n",
       "       [-2.8791341 , -2.23263774,  1.89029601],\n",
       "       [-3.38918636, -2.41195043,  0.66926709],\n",
       "       [-1.67858168,  0.28350189,  0.70787885],\n",
       "       [-2.61054153, -2.35131911,  0.01223478]])"
      ]
     },
     "execution_count": 8,
     "metadata": {},
     "output_type": "execute_result"
    }
   ],
   "source": [
    "v = []\n",
    "\n",
    "for j in range(0, user_product_matrix.shape[1]):\n",
    "    dataset = np.hstack((u, np.expand_dims(user_product_matrix[:, j], axis = 1)))\n",
    "    dataset = dataset[~np.isnan(dataset).any(axis = 1)]\n",
    "    X = dataset[:, :-1]\n",
    "    y = dataset[:, -1]\n",
    "    coefficients = calculate_ols_coefficients(X, y, 0.1)\n",
    "    v.append(coefficients)\n",
    "\n",
    "v = np.array(v)\n",
    "v\n"
   ]
  },
  {
   "cell_type": "markdown",
   "metadata": {},
   "source": [
    "Alternating least squares algorithm repeats this until the values of U and V matrices converge.\n",
    "\n",
    "As you see below, u and v_T are then multiplied to reconstruct the user product rating matrix."
   ]
  },
  {
   "cell_type": "code",
   "execution_count": 9,
   "metadata": {},
   "outputs": [
    {
     "name": "stdout",
     "output_type": "stream",
     "text": [
      "[[3.06251138 3.41543223 3.97674629 4.56637668 4.52121266 2.65845155]\n",
      " [1.4940102  2.91243381 3.53645671 4.47015868 3.05246051 3.2064672 ]\n",
      " [1.22207512 2.91408283 3.52869208 4.61324482 2.90367174 3.4332304 ]\n",
      " [2.69297982 2.44033393 3.43048137 3.00406152 2.9351591  1.53864846]\n",
      " [2.96395525 2.96715704 3.46335164 3.81070292 4.0975367  2.05910953]\n",
      " [2.13441564 2.43097132 3.20684489 3.2745254  2.81316906 1.96630427]\n",
      " [4.08673297 3.27565231 4.29775527 3.78831593 4.52572385 1.64466729]]\n"
     ]
    },
    {
     "data": {
      "text/plain": [
       "(7, 6)"
      ]
     },
     "execution_count": 9,
     "metadata": {},
     "output_type": "execute_result"
    }
   ],
   "source": [
    "pred = u @ v.T\n",
    "print(pred)\n",
    "(pred).shape"
   ]
  },
  {
   "cell_type": "code",
   "execution_count": 10,
   "metadata": {},
   "outputs": [
    {
     "name": "stdout",
     "output_type": "stream",
     "text": [
      "[[3.  nan 3.5 4.  4.5 2.5]\n",
      " [1.5 3.  3.5 5.  3.  3.5]\n",
      " [nan 3.  4.  5.  3.  3.5]\n",
      " [3.  2.5 3.5 3.5 3.  2.5]\n",
      " [nan 2.5 3.  3.5 4.  nan]\n",
      " [2.  3.  4.  3.  3.  2. ]\n",
      " [nan nan 4.5 4.  nan 1. ]]\n",
      "(7, 6)\n"
     ]
    }
   ],
   "source": [
    "print(user_product_matrix)\n",
    "print(user_product_matrix.shape)"
   ]
  },
  {
   "cell_type": "markdown",
   "metadata": {},
   "source": [
    "With this intuition, the algorithm is replicated ideally until there is a convergence of a training error. Many loss functions can be used for the training. However, for starters and small use cases, using RMSE (calculated where corresponding entry exist in both predicted and actual matrices) is suffice."
   ]
  },
  {
   "cell_type": "code",
   "execution_count": 11,
   "metadata": {},
   "outputs": [
    {
     "data": {
      "text/plain": [
       "0.36834391153076623"
      ]
     },
     "execution_count": 11,
     "metadata": {},
     "output_type": "execute_result"
    }
   ],
   "source": [
    "# RMSE\n",
    "float(np.sqrt(np.nanmean((user_product_matrix - pred) ** 2)))"
   ]
  },
  {
   "cell_type": "markdown",
   "metadata": {},
   "source": [
    "# Alternating least square algorithm"
   ]
  },
  {
   "cell_type": "markdown",
   "metadata": {},
   "source": [
    "Now let's look at how different hyper paramters affect the model."
   ]
  },
  {
   "cell_type": "code",
   "execution_count": 12,
   "metadata": {},
   "outputs": [],
   "source": [
    "import sys\n",
    "sys.path.append(\"../src\")\n",
    "\n",
    "from matrix_factorization.alternating_least_sqaures import ALS"
   ]
  },
  {
   "cell_type": "code",
   "execution_count": 13,
   "metadata": {},
   "outputs": [],
   "source": [
    "ratings = pd.read_csv(\"../data/movie_lens/rating.csv\", nrows=900000)"
   ]
  },
  {
   "cell_type": "code",
   "execution_count": 14,
   "metadata": {},
   "outputs": [
    {
     "name": "stderr",
     "output_type": "stream",
     "text": [
      "INFO: Initializing user matrix\n",
      "INFO: Start training\n",
      "INFO: iteration 1: RMSE = 0.7914422845489588\n",
      "INFO: iteration 2: RMSE = 0.7470814988463755\n",
      "INFO: iteration 3: RMSE = 0.7213361787157171\n",
      "INFO: iteration 4: RMSE = 0.7055223768419965\n",
      "INFO: iteration 5: RMSE = 0.6960140082448351\n",
      "INFO: iteration 6: RMSE = 0.6897512150493115\n",
      "INFO: iteration 7: RMSE = 0.6854062496083185\n",
      "INFO: iteration 8: RMSE = 0.6823041863302646\n",
      "INFO: iteration 9: RMSE = 0.6800200253465999\n",
      "INFO: iteration 10: RMSE = 0.6782983571124401\n",
      "INFO: iteration 11: RMSE = 0.6769691805600915\n",
      "INFO: iteration 12: RMSE = 0.6759085783936304\n",
      "INFO: iteration 13: RMSE = 0.675037536906905\n",
      "INFO: iteration 14: RMSE = 0.6743090542867793\n",
      "INFO: iteration 15: RMSE = 0.6736923899440486\n",
      "INFO: iteration 16: RMSE = 0.6731659614502936\n",
      "INFO: iteration 17: RMSE = 0.672713303550274\n",
      "INFO: iteration 18: RMSE = 0.6723197808949207\n",
      "INFO: iteration 19: RMSE = 0.6719746692630768\n",
      "INFO: iteration 20: RMSE = 0.6716701103429061\n"
     ]
    },
    {
     "name": "stdout",
     "output_type": "stream",
     "text": [
      "CPU times: user 1min 30s, sys: 1.67 s, total: 1min 32s\n",
      "Wall time: 1min 24s\n"
     ]
    }
   ],
   "source": [
    "%%time\n",
    "\n",
    "als = ALS(\n",
    "    n_features = 10,\n",
    "    user_column_header = \"userId\",\n",
    "    item_column_header = \"movieId\",\n",
    "    rating_column_header = \"rating\",\n",
    "    max_iter = 20\n",
    ")\n",
    "\n",
    "als.fit(rating_matrix = ratings)"
   ]
  },
  {
   "cell_type": "code",
   "execution_count": 15,
   "metadata": {},
   "outputs": [
    {
     "data": {
      "text/plain": [
       "(6034, 10)"
      ]
     },
     "execution_count": 15,
     "metadata": {},
     "output_type": "execute_result"
    }
   ],
   "source": [
    "als.U.shape"
   ]
  },
  {
   "cell_type": "code",
   "execution_count": 16,
   "metadata": {},
   "outputs": [
    {
     "data": {
      "text/plain": [
       "(13771, 10)"
      ]
     },
     "execution_count": 16,
     "metadata": {},
     "output_type": "execute_result"
    }
   ],
   "source": [
    "als.V.shape"
   ]
  },
  {
   "cell_type": "code",
   "execution_count": 17,
   "metadata": {},
   "outputs": [
    {
     "data": {
      "text/plain": [
       "4.4832490863467305"
      ]
     },
     "execution_count": 17,
     "metadata": {},
     "output_type": "execute_result"
    }
   ],
   "source": [
    "als.predict_rating(10, 145)"
   ]
  },
  {
   "cell_type": "code",
   "execution_count": 18,
   "metadata": {},
   "outputs": [
    {
     "data": {
      "text/plain": [
       "np.float64(5.0)"
      ]
     },
     "execution_count": 18,
     "metadata": {},
     "output_type": "execute_result"
    }
   ],
   "source": [
    "als.R[10, 145]"
   ]
  },
  {
   "cell_type": "markdown",
   "metadata": {},
   "source": [
    "Lets try increasing the count of latent factor."
   ]
  },
  {
   "cell_type": "code",
   "execution_count": 19,
   "metadata": {},
   "outputs": [
    {
     "name": "stderr",
     "output_type": "stream",
     "text": [
      "INFO: Initializing user matrix\n",
      "INFO: Start training\n",
      "INFO: iteration 1: RMSE = 0.4657379873640672\n",
      "INFO: iteration 2: RMSE = 0.3691381896381516\n",
      "INFO: iteration 3: RMSE = 0.33044264919327543\n",
      "INFO: iteration 4: RMSE = 0.3075582068206599\n",
      "INFO: iteration 5: RMSE = 0.29177864469481046\n",
      "INFO: iteration 6: RMSE = 0.2799764446680789\n",
      "INFO: iteration 7: RMSE = 0.2707180068893774\n",
      "INFO: iteration 8: RMSE = 0.26321494362152126\n",
      "INFO: iteration 9: RMSE = 0.25699035434038026\n",
      "INFO: iteration 10: RMSE = 0.25173804858930665\n",
      "INFO: iteration 11: RMSE = 0.2472437239176054\n",
      "INFO: iteration 12: RMSE = 0.2433480981608739\n",
      "INFO: iteration 13: RMSE = 0.23993006662776525\n",
      "INFO: iteration 14: RMSE = 0.23689801137584884\n",
      "INFO: iteration 15: RMSE = 0.23418332819873877\n",
      "INFO: iteration 16: RMSE = 0.23173405353633683\n",
      "INFO: iteration 17: RMSE = 0.22951002118565395\n",
      "INFO: iteration 18: RMSE = 0.22747938875295645\n",
      "INFO: iteration 19: RMSE = 0.22561632100793894\n",
      "INFO: iteration 20: RMSE = 0.22389963122138265\n"
     ]
    },
    {
     "name": "stdout",
     "output_type": "stream",
     "text": [
      "CPU times: user 17min 9s, sys: 2.16 s, total: 17min 11s\n",
      "Wall time: 4min 24s\n"
     ]
    }
   ],
   "source": [
    "%%time\n",
    "\n",
    "als = ALS(\n",
    "    n_features = 100,\n",
    "    user_column_header = \"userId\",\n",
    "    item_column_header = \"movieId\",\n",
    "    rating_column_header = \"rating\",\n",
    "    max_iter = 20\n",
    ")\n",
    "\n",
    "als.fit(rating_matrix = ratings)"
   ]
  },
  {
   "cell_type": "code",
   "execution_count": 20,
   "metadata": {},
   "outputs": [
    {
     "data": {
      "text/plain": [
       "(6034, 100)"
      ]
     },
     "execution_count": 20,
     "metadata": {},
     "output_type": "execute_result"
    }
   ],
   "source": [
    "als.U.shape"
   ]
  },
  {
   "cell_type": "code",
   "execution_count": 21,
   "metadata": {},
   "outputs": [
    {
     "data": {
      "text/plain": [
       "(13771, 100)"
      ]
     },
     "execution_count": 21,
     "metadata": {},
     "output_type": "execute_result"
    }
   ],
   "source": [
    "als.V.shape"
   ]
  },
  {
   "cell_type": "code",
   "execution_count": 22,
   "metadata": {},
   "outputs": [
    {
     "data": {
      "text/plain": [
       "5.133698158054369"
      ]
     },
     "execution_count": 22,
     "metadata": {},
     "output_type": "execute_result"
    }
   ],
   "source": [
    "als.predict_rating(10, 145)"
   ]
  },
  {
   "cell_type": "code",
   "execution_count": 23,
   "metadata": {},
   "outputs": [
    {
     "data": {
      "text/plain": [
       "np.float64(5.0)"
      ]
     },
     "execution_count": 23,
     "metadata": {},
     "output_type": "execute_result"
    }
   ],
   "source": [
    "als.R[10, 145]"
   ]
  },
  {
   "cell_type": "markdown",
   "metadata": {},
   "source": [
    "We see here that more latent factors lead to less training errors; at the expense of training and inference time. In situations where large amounts of latent factors are called, stochastic gradient descent should be used to estimate the entries of the factor matrices."
   ]
  }
 ],
 "metadata": {
  "kernelspec": {
   "display_name": "Python 3 (ipykernel)",
   "language": "python",
   "name": "python3"
  },
  "language_info": {
   "codemirror_mode": {
    "name": "ipython",
    "version": 3
   },
   "file_extension": ".py",
   "mimetype": "text/x-python",
   "name": "python",
   "nbconvert_exporter": "python",
   "pygments_lexer": "ipython3",
   "version": "3.10.14"
  }
 },
 "nbformat": 4,
 "nbformat_minor": 4
}
