{
 "cells": [
  {
   "cell_type": "markdown",
   "metadata": {},
   "source": [
    "# Alternating Least Square Implementation"
   ]
  },
  {
   "cell_type": "markdown",
   "metadata": {},
   "source": [
    "Matrix factorization by alternating least squares."
   ]
  },
  {
   "cell_type": "code",
   "execution_count": 1,
   "metadata": {},
   "outputs": [],
   "source": [
    "import numpy as np\n",
    "import pandas as pd"
   ]
  },
  {
   "cell_type": "markdown",
   "metadata": {},
   "source": [
    "## Intuition\n",
    "\n",
    "First build some intuition by manually executing the 2 iterations"
   ]
  },
  {
   "cell_type": "code",
   "execution_count": 6,
   "metadata": {},
   "outputs": [
    {
     "data": {
      "text/html": [
       "<div>\n",
       "<style scoped>\n",
       "    .dataframe tbody tr th:only-of-type {\n",
       "        vertical-align: middle;\n",
       "    }\n",
       "\n",
       "    .dataframe tbody tr th {\n",
       "        vertical-align: top;\n",
       "    }\n",
       "\n",
       "    .dataframe thead th {\n",
       "        text-align: right;\n",
       "    }\n",
       "</style>\n",
       "<table border=\"1\" class=\"dataframe\">\n",
       "  <thead>\n",
       "    <tr style=\"text-align: right;\">\n",
       "      <th></th>\n",
       "      <th>User</th>\n",
       "      <th>Movie</th>\n",
       "      <th>Rating</th>\n",
       "    </tr>\n",
       "  </thead>\n",
       "  <tbody>\n",
       "    <tr>\n",
       "      <th>0</th>\n",
       "      <td>Lisa Rose</td>\n",
       "      <td>Lady in the Water</td>\n",
       "      <td>2.5</td>\n",
       "    </tr>\n",
       "    <tr>\n",
       "      <th>1</th>\n",
       "      <td>Lisa Rose</td>\n",
       "      <td>Snakes on a Plane</td>\n",
       "      <td>3.5</td>\n",
       "    </tr>\n",
       "    <tr>\n",
       "      <th>2</th>\n",
       "      <td>Lisa Rose</td>\n",
       "      <td>Just My Luck</td>\n",
       "      <td>3.0</td>\n",
       "    </tr>\n",
       "    <tr>\n",
       "      <th>3</th>\n",
       "      <td>Lisa Rose</td>\n",
       "      <td>Superman Returns</td>\n",
       "      <td>3.5</td>\n",
       "    </tr>\n",
       "    <tr>\n",
       "      <th>4</th>\n",
       "      <td>Lisa Rose</td>\n",
       "      <td>You, Me and Dupree</td>\n",
       "      <td>2.5</td>\n",
       "    </tr>\n",
       "  </tbody>\n",
       "</table>\n",
       "</div>"
      ],
      "text/plain": [
       "        User               Movie  Rating\n",
       "0  Lisa Rose   Lady in the Water     2.5\n",
       "1  Lisa Rose   Snakes on a Plane     3.5\n",
       "2  Lisa Rose        Just My Luck     3.0\n",
       "3  Lisa Rose    Superman Returns     3.5\n",
       "4  Lisa Rose  You, Me and Dupree     2.5"
      ]
     },
     "execution_count": 6,
     "metadata": {},
     "output_type": "execute_result"
    }
   ],
   "source": [
    "df = pd.read_csv(\"../data/critics/critics.csv\")\n",
    "df.head()"
   ]
  },
  {
   "cell_type": "code",
   "execution_count": 9,
   "metadata": {},
   "outputs": [
    {
     "data": {
      "text/plain": [
       "array([[3. , nan, 3.5, 4. , 4.5, 2.5],\n",
       "       [1.5, 3. , 3.5, 5. , 3. , 3.5],\n",
       "       [nan, 3. , 4. , 5. , 3. , 3.5],\n",
       "       [3. , 2.5, 3.5, 3.5, 3. , 2.5],\n",
       "       [nan, 2.5, 3. , 3.5, 4. , nan],\n",
       "       [2. , 3. , 4. , 3. , 3. , 2. ],\n",
       "       [nan, nan, 4.5, 4. , nan, 1. ]])"
      ]
     },
     "execution_count": 9,
     "metadata": {},
     "output_type": "execute_result"
    }
   ],
   "source": [
    "user_product_matrix = df.pivot(index=\"User\", columns=\"Movie\", values=\"Rating\").to_numpy()\n",
    "user_product_matrix"
   ]
  },
  {
   "cell_type": "markdown",
   "metadata": {},
   "source": [
    "We will try to factorize the matrix above with 3 latent factors."
   ]
  },
  {
   "cell_type": "markdown",
   "metadata": {},
   "source": [
    "### 1. Initialize User Matrix"
   ]
  },
  {
   "cell_type": "code",
   "execution_count": 17,
   "metadata": {},
   "outputs": [
    {
     "data": {
      "text/plain": [
       "array([[ 0.1216306 , -0.10749638,  0.72123486],\n",
       "       [ 0.0926787 ,  0.21991047,  0.34158726],\n",
       "       [-0.96480358,  0.07098226, -0.32778319],\n",
       "       [ 0.258449  , -0.53302782,  0.12613497],\n",
       "       [ 0.21969446,  0.21058718,  0.04744654],\n",
       "       [-0.09961878,  0.57733349, -0.0266567 ],\n",
       "       [ 0.03578411, -0.63026162, -1.32150535]])"
      ]
     },
     "execution_count": 17,
     "metadata": {},
     "output_type": "execute_result"
    }
   ],
   "source": [
    "# initialize user matrix\n",
    "\n",
    "u_init = np.random.normal(0, 1/np.sqrt(3), size = (user_product_matrix.shape[0], 3))\n",
    "u_init"
   ]
  },
  {
   "cell_type": "code",
   "execution_count": 12,
   "metadata": {},
   "outputs": [],
   "source": [
    "def calculate_ols_coefficients(X, y, l=0):\n",
    "    X_2 = X.T @ X\n",
    "    X_y = X.T @ y\n",
    "    l_i = l * np.eye(X_2.shape[0])\n",
    "\n",
    "    coeff = np.linalg.inv(X_2 + l_i) @ X_y\n",
    "    return coeff"
   ]
  },
  {
   "cell_type": "markdown",
   "metadata": {},
   "source": [
    "### 2. Calculate product matrix v with initialized user matrix"
   ]
  },
  {
   "cell_type": "code",
   "execution_count": 24,
   "metadata": {},
   "outputs": [
    {
     "data": {
      "text/plain": [
       "array([[ 3.38897536e+00,  6.24595334e-01,  3.35804637e+00],\n",
       "       [-2.64180009e+00,  1.67681628e+00,  4.28579224e+00],\n",
       "       [-1.37250691e+00, -6.96831085e-01, -7.48507916e-01],\n",
       "       [-2.22513505e+00, -1.15503910e+00,  3.72720980e-03],\n",
       "       [-2.81082578e+00,  1.66450288e+00,  6.13050280e+00],\n",
       "       [-2.77827116e+00, -1.41178583e+00,  1.14745125e+00]])"
      ]
     },
     "execution_count": 24,
     "metadata": {},
     "output_type": "execute_result"
    }
   ],
   "source": [
    "v = []\n",
    "\n",
    "for j in range(0, user_product_matrix.shape[1]):\n",
    "    dataset = np.hstack((u_init, np.expand_dims(user_product_matrix[:, j], axis = 1)))\n",
    "    dataset = dataset[~np.isnan(dataset).any(axis = 1)]\n",
    "    X = dataset[:, :-1]\n",
    "    y = dataset[:, -1]\n",
    "    coefficients = calculate_ols_coefficients(X, y, 0.1)\n",
    "    v.append(coefficients)\n",
    "\n",
    "v = np.array(v)\n",
    "v\n"
   ]
  },
  {
   "cell_type": "markdown",
   "metadata": {},
   "source": [
    "### 3. (2nd iteration) calculate user matrix u with estimated v matrix in previous iteration"
   ]
  },
  {
   "cell_type": "code",
   "execution_count": 26,
   "metadata": {},
   "outputs": [
    {
     "data": {
      "text/plain": [
       "array([[-0.14297498, -1.87299564,  1.1360763 ],\n",
       "       [-0.43361733, -1.95649191,  0.94335882],\n",
       "       [-2.32432532,  0.74513015, -0.8848415 ],\n",
       "       [-0.09645928, -1.7778043 ,  1.01528145],\n",
       "       [-1.27765585, -0.93977701,  0.2588414 ],\n",
       "       [-0.28141686, -1.22609567,  0.78573035],\n",
       "       [-1.28162354, -0.72834402, -2.92816591]])"
      ]
     },
     "execution_count": 26,
     "metadata": {},
     "output_type": "execute_result"
    }
   ],
   "source": [
    "user_product_matrix_T = user_product_matrix.T\n",
    "u = []\n",
    "\n",
    "for j in range(0, user_product_matrix_T.shape[1]):\n",
    "    dataset = np.hstack((v, np.expand_dims(user_product_matrix_T[:, j], axis = 1)))\n",
    "    dataset = dataset[~np.isnan(dataset).any(axis = 1)]\n",
    "    X = dataset[:, :-1]\n",
    "    y = dataset[:, -1]\n",
    "    coefficients = calculate_ols_coefficients(X, y, 0.1)\n",
    "    u.append(coefficients)\n",
    "\n",
    "u = np.array(u)\n",
    "u"
   ]
  },
  {
   "cell_type": "markdown",
   "metadata": {},
   "source": [
    "### 3. (2nd iteration) calculate product matrix v with estimated u matrix in 1st half of iteration"
   ]
  },
  {
   "cell_type": "code",
   "execution_count": 27,
   "metadata": {},
   "outputs": [
    {
     "data": {
      "text/plain": [
       "array([[ 1.3506325 , -0.52797871,  1.80305739],\n",
       "       [-1.81097424, -0.53246773,  1.31526758],\n",
       "       [-1.97503966, -1.75499814, -0.192945  ],\n",
       "       [-2.46165792, -1.69624775,  0.14125572],\n",
       "       [-2.14828396, -0.63967846,  1.80613601],\n",
       "       [-2.01718059, -0.83394851,  0.73425451]])"
      ]
     },
     "execution_count": 27,
     "metadata": {},
     "output_type": "execute_result"
    }
   ],
   "source": [
    "v = []\n",
    "\n",
    "for j in range(0, user_product_matrix.shape[1]):\n",
    "    dataset = np.hstack((u, np.expand_dims(user_product_matrix[:, j], axis = 1)))\n",
    "    dataset = dataset[~np.isnan(dataset).any(axis = 1)]\n",
    "    X = dataset[:, :-1]\n",
    "    y = dataset[:, -1]\n",
    "    coefficients = calculate_ols_coefficients(X, y, 0.1)\n",
    "    v.append(coefficients)\n",
    "\n",
    "v = np.array(v)\n",
    "v\n"
   ]
  },
  {
   "cell_type": "markdown",
   "metadata": {},
   "source": [
    "Alternating least squares algorithm repeats this until the values of U and V matrices converge.\n",
    "\n",
    "As you see below, u and v_T are then multiplied to reconstruct the user product rating matrix."
   ]
  },
  {
   "cell_type": "code",
   "execution_count": 32,
   "metadata": {},
   "outputs": [
    {
     "name": "stdout",
     "output_type": "stream",
     "text": [
      "[[ 2.97780298  3.26109754  3.3720582   3.87163753  4.21840481  3.05218037]\n",
      " [ 1.32594373  2.82892904  4.04579241  4.44389266  3.5317617   3.0864871 ]\n",
      " [-2.41890596  2.7812106   4.1626996   4.80664741  3.22892769  3.45009578]\n",
      " [ 2.89715273  2.40758435  3.35832076  3.57677321  3.12118589  2.43015023]\n",
      " [ 0.70264408  2.91280236  2.92844464  3.5280586   3.64773771  2.89374734]\n",
      " [ 2.01533196  2.39903968  3.27930011  3.56869592  3.0578991   2.48769636]\n",
      " [-2.40568572 -0.36996645  4.37200495  3.92553673 -0.81352464  1.19652474]]\n"
     ]
    },
    {
     "data": {
      "text/plain": [
       "(7, 6)"
      ]
     },
     "execution_count": 32,
     "metadata": {},
     "output_type": "execute_result"
    }
   ],
   "source": [
    "print(u @ v.T)\n",
    "(u @ v.T).shape"
   ]
  },
  {
   "cell_type": "code",
   "execution_count": 33,
   "metadata": {},
   "outputs": [
    {
     "name": "stdout",
     "output_type": "stream",
     "text": [
      "[[3.  nan 3.5 4.  4.5 2.5]\n",
      " [1.5 3.  3.5 5.  3.  3.5]\n",
      " [nan 3.  4.  5.  3.  3.5]\n",
      " [3.  2.5 3.5 3.5 3.  2.5]\n",
      " [nan 2.5 3.  3.5 4.  nan]\n",
      " [2.  3.  4.  3.  3.  2. ]\n",
      " [nan nan 4.5 4.  nan 1. ]]\n",
      "(7, 6)\n"
     ]
    }
   ],
   "source": [
    "print(user_product_matrix)\n",
    "print(user_product_matrix.shape)"
   ]
  },
  {
   "cell_type": "code",
   "execution_count": null,
   "metadata": {},
   "outputs": [],
   "source": []
  }
 ],
 "metadata": {
  "kernelspec": {
   "display_name": "rec-sys",
   "language": "python",
   "name": "python3"
  },
  "language_info": {
   "codemirror_mode": {
    "name": "ipython",
    "version": 3
   },
   "file_extension": ".py",
   "mimetype": "text/x-python",
   "name": "python",
   "nbconvert_exporter": "python",
   "pygments_lexer": "ipython3",
   "version": "3.10.14"
  }
 },
 "nbformat": 4,
 "nbformat_minor": 2
}
