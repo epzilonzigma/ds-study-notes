{
 "cells": [
  {
   "cell_type": "markdown",
   "id": "461b6480",
   "metadata": {},
   "source": [
    "# Tensor operations\n",
    "\n",
    "This notebook implements the following operations with tensors of in Numpy:\n",
    "\n",
    "- Addition\n",
    "- Scalar multiplication\n",
    "- Outer product\n",
    "- Inner product\n",
    "- Contraction\n",
    "- Broadcasting"
   ]
  },
  {
   "cell_type": "markdown",
   "id": "fa11b80b",
   "metadata": {},
   "source": [
    "## Addition (and subtraction)\n",
    "\n",
    "Tensor addition operations are on a entry level of the same shape."
   ]
  },
  {
   "cell_type": "code",
   "execution_count": 15,
   "id": "95901ffa",
   "metadata": {},
   "outputs": [],
   "source": [
    "import numpy as np\n",
    "SEED = 9999"
   ]
  },
  {
   "cell_type": "code",
   "execution_count": null,
   "id": "38926581",
   "metadata": {},
   "outputs": [
    {
     "name": "stdout",
     "output_type": "stream",
     "text": [
      "(2, 2, 2)\n"
     ]
    },
    {
     "data": {
      "text/plain": [
       "array([[[1, 2],\n",
       "        [3, 4]],\n",
       "\n",
       "       [[5, 6],\n",
       "        [7, 8]]])"
      ]
     },
     "execution_count": 16,
     "metadata": {},
     "output_type": "execute_result"
    }
   ],
   "source": [
    "A = np.array([[[1,2], [3, 4]], [[5, 6], [7, 8]]])\n",
    "print(A.shape)\n",
    "A"
   ]
  },
  {
   "cell_type": "code",
   "execution_count": 17,
   "id": "d6325230",
   "metadata": {},
   "outputs": [
    {
     "data": {
      "text/plain": [
       "array([[[3, 2],\n",
       "        [3, 2]],\n",
       "\n",
       "       [[2, 3],\n",
       "        [2, 1]]])"
      ]
     },
     "execution_count": 17,
     "metadata": {},
     "output_type": "execute_result"
    }
   ],
   "source": [
    "np.random.seed(SEED)\n",
    "B = np.random.randint(1, 4, (2, 2, 2))\n",
    "B"
   ]
  },
  {
   "cell_type": "code",
   "execution_count": 18,
   "id": "673523c5",
   "metadata": {},
   "outputs": [
    {
     "data": {
      "text/plain": [
       "array([[[4, 4],\n",
       "        [6, 6]],\n",
       "\n",
       "       [[7, 9],\n",
       "        [9, 9]]])"
      ]
     },
     "execution_count": 18,
     "metadata": {},
     "output_type": "execute_result"
    }
   ],
   "source": [
    "A + B"
   ]
  },
  {
   "cell_type": "markdown",
   "id": "4bbf57dd",
   "metadata": {},
   "source": [
    "## Scalar multiplication\n",
    "\n",
    "Likewise, scalar multiplication is also applied on an entry level."
   ]
  },
  {
   "cell_type": "code",
   "execution_count": null,
   "id": "0a6c25c0",
   "metadata": {},
   "outputs": [
    {
     "data": {
      "text/plain": [
       "array([[[ 2,  4],\n",
       "        [ 6,  8]],\n",
       "\n",
       "       [[10, 12],\n",
       "        [14, 16]]])"
      ]
     },
     "execution_count": 19,
     "metadata": {},
     "output_type": "execute_result"
    }
   ],
   "source": [
    "c = 2\n",
    "c * A"
   ]
  },
  {
   "cell_type": "code",
   "execution_count": 21,
   "id": "4b9b4fb3",
   "metadata": {},
   "outputs": [
    {
     "name": "stdout",
     "output_type": "stream",
     "text": [
      "[[[ True  True]\n",
      "  [ True  True]]\n",
      "\n",
      " [[ True  True]\n",
      "  [ True  True]]]\n"
     ]
    }
   ],
   "source": [
    "print(A * c == c * A) # also commutative"
   ]
  },
  {
   "cell_type": "code",
   "execution_count": null,
   "id": "40c22847",
   "metadata": {},
   "outputs": [
    {
     "data": {
      "text/plain": [
       "array([[[ 8,  8],\n",
       "        [12, 12]],\n",
       "\n",
       "       [[14, 18],\n",
       "        [18, 18]]])"
      ]
     },
     "execution_count": 22,
     "metadata": {},
     "output_type": "execute_result"
    }
   ],
   "source": [
    "c * (A + B) # also distrbutative"
   ]
  },
  {
   "cell_type": "markdown",
   "id": "7a0a60b0",
   "metadata": {},
   "source": [
    "## Outer product\n",
    "\n",
    "In tensor operations, the outer product is roughly thought of as a generalization of the Kronecker product. The key difference being, the rank of a tensor outer product is the sum of the tensor ranks of its factors while the Kronecker product remains a rank 2 tensor (ie a matrix) and expands in size.\n"
   ]
  },
  {
   "cell_type": "code",
   "execution_count": null,
   "id": "3a5ea75d",
   "metadata": {},
   "outputs": [
    {
     "data": {
      "text/plain": [
       "array([[ True, False],\n",
       "       [False, False]])"
      ]
     },
     "execution_count": 26,
     "metadata": {},
     "output_type": "execute_result"
    }
   ],
   "source": [
    "X = [[1, 2], [3, 4]] # rank 2 tensor of (2, 2)\n",
    "\n",
    "outer_product = np.multiply.outer(X, B)\n",
    "outer_product.shape\n",
    "\n",
    "(np.multiply.outer(X, B) == np.multiply.outer(B, X))[0,0,0] # the outer product is not communitative"
   ]
  },
  {
   "cell_type": "code",
   "execution_count": 28,
   "id": "3189d60e",
   "metadata": {},
   "outputs": [
    {
     "data": {
      "text/plain": [
       "array([[[3, 2],\n",
       "        [3, 2]],\n",
       "\n",
       "       [[2, 3],\n",
       "        [2, 1]]])"
      ]
     },
     "execution_count": 28,
     "metadata": {},
     "output_type": "execute_result"
    }
   ],
   "source": [
    "B"
   ]
  },
  {
   "cell_type": "code",
   "execution_count": 27,
   "id": "62182dad",
   "metadata": {},
   "outputs": [
    {
     "data": {
      "text/plain": [
       "array([[3, 2],\n",
       "       [3, 2]])"
      ]
     },
     "execution_count": 27,
     "metadata": {},
     "output_type": "execute_result"
    }
   ],
   "source": [
    "outer_product[0, 0, 0]"
   ]
  },
  {
   "cell_type": "markdown",
   "id": "fdcaa287",
   "metadata": {},
   "source": [
    "Note the outer_product's (1,1,1,1,1) entry is a product of X at (1,1) and B at (1,1,1) and its (1,1,1,1,2) entry is the product of X at (1,1) and B at (1,1,2)."
   ]
  },
  {
   "cell_type": "code",
   "execution_count": 30,
   "id": "8ee13f4b",
   "metadata": {},
   "outputs": [
    {
     "data": {
      "text/plain": [
       "array([[9, 6],\n",
       "       [9, 6]])"
      ]
     },
     "execution_count": 30,
     "metadata": {},
     "output_type": "execute_result"
    }
   ],
   "source": [
    "outer_product[1,0,0]"
   ]
  },
  {
   "cell_type": "markdown",
   "id": "b7a793d1",
   "metadata": {},
   "source": [
    "Note the outer_product's (2,1,1,1,1) entry is a product of X at (2,1) and B at (1,1,1) and its (2,1,1,1,2) entry is the product of X at (2,1) and B at (1,1,2)."
   ]
  },
  {
   "cell_type": "markdown",
   "id": "e3060679",
   "metadata": {},
   "source": [
    "In conclusion, the entries of the outer product between `X` and `B` is summarized in the following statement:\n",
    "\n",
    "$$\n",
    "    product_{ijklm} = x_{ij} \\times b_{klm} \n",
    "$$\n",
    "\n",
    "where the outer product is of the shape (2,2,2,2,2)."
   ]
  },
  {
   "cell_type": "markdown",
   "id": "2e40c013",
   "metadata": {},
   "source": [
    "## Inner product\n",
    "\n",
    "The inner product between 2 tensors is a product between 2 tensors where dimension(s) of the same length of each factor is chosen to be aggregated.\n",
    "The inputs of a tensor inner product operation thus requires 2 tensors AND dimension(s) intended for aggregation"
   ]
  },
  {
   "cell_type": "code",
   "execution_count": 47,
   "id": "5cba9027",
   "metadata": {},
   "outputs": [
    {
     "data": {
      "text/plain": [
       "array([[[ 9, 11],\n",
       "        [ 9,  5]],\n",
       "\n",
       "       [[14, 16],\n",
       "        [14,  8]]])"
      ]
     },
     "execution_count": 47,
     "metadata": {},
     "output_type": "execute_result"
    }
   ],
   "source": [
    "inner_product = np.tensordot(X, B, axes=(0, 0))\n",
    "inner_product"
   ]
  },
  {
   "cell_type": "markdown",
   "id": "56a9131a",
   "metadata": {},
   "source": [
    "Note that the size of the inner product is now (2,2,2) instead of (2,2,2,2,2) like the outer product. This is because when we chose the 1st axes of X and B to be aggregated the rank has collapsed. In this particular case, the entries of the inner product tensor is illustrated by the following:\n",
    "\n",
    "$$\n",
    "    product_{jkm} = \\sum_{i=1}^{2} x_{ij} \\cdot b_{ikm}\n",
    "$$\n",
    "\n",
    "meaning the inner product's entry at (1,1,1) = 1x3 + 3x2 = 9"
   ]
  },
  {
   "cell_type": "markdown",
   "id": "28b118ea",
   "metadata": {},
   "source": [
    "## Contractions\n",
    "\n",
    "In fact, we can aggregate and collapse dimensions in a given tensor in the same fashion. These operations are call contractions. And requires a given tensors and dimensions it needs to be aggregated on."
   ]
  },
  {
   "cell_type": "code",
   "execution_count": 55,
   "id": "f366b52e",
   "metadata": {},
   "outputs": [
    {
     "data": {
      "text/plain": [
       "array([[ 3,  7],\n",
       "       [11, 15]])"
      ]
     },
     "execution_count": 55,
     "metadata": {},
     "output_type": "execute_result"
    }
   ],
   "source": [
    "# The best way to implement tensor contraction is via np.einsum function where the string entry denotes first denotes the index of each dimension \n",
    "# with the arrow pointing to which dimension should be remaining after the contraction.\n",
    "\n",
    "np.einsum(\"ijk->ij\", A)"
   ]
  },
  {
   "cell_type": "markdown",
   "id": "1a1d0c2a",
   "metadata": {},
   "source": [
    "In the above code where the 3rd dimension is contracted, it could be summarized as:\n",
    "\n",
    "$$\n",
    "    contracted_{ij} = \\sum_{k=1}^{2} a_{ijk}\n",
    "$$\n",
    "\n",
    "Where the entry at (1,1) is A at (1, 1, 1) + A at (1, 1, 2)"
   ]
  },
  {
   "cell_type": "code",
   "execution_count": 57,
   "id": "bf845141",
   "metadata": {},
   "outputs": [
    {
     "data": {
      "text/plain": [
       "array([[ 4,  6],\n",
       "       [12, 14]])"
      ]
     },
     "execution_count": 57,
     "metadata": {},
     "output_type": "execute_result"
    }
   ],
   "source": [
    "np.einsum(\"ijk->ik\", A)"
   ]
  },
  {
   "cell_type": "markdown",
   "id": "e506e604",
   "metadata": {},
   "source": [
    "Similarly, when contracting at the 2nd dimension, the resulting entry at (1,1) is A at (1,1,1) + A at (1, 2, 1) (i.e 1 + 3)."
   ]
  },
  {
   "cell_type": "code",
   "execution_count": 58,
   "id": "6905c6d5",
   "metadata": {},
   "outputs": [
    {
     "data": {
      "text/plain": [
       "array([[ 6,  8],\n",
       "       [10, 12]])"
      ]
     },
     "execution_count": 58,
     "metadata": {},
     "output_type": "execute_result"
    }
   ],
   "source": [
    "np.einsum(\"ijk->jk\", A)"
   ]
  },
  {
   "cell_type": "markdown",
   "id": "0dd950ed",
   "metadata": {},
   "source": [
    "Again, when contracting at the 1st dimension, the resulting entry at (1,1) is A at (1,1,1) + A at (2, 1, 1) (i.e 1 + 5)."
   ]
  },
  {
   "cell_type": "markdown",
   "id": "64470fa1",
   "metadata": {},
   "source": [
    "## Broadcasting"
   ]
  },
  {
   "cell_type": "markdown",
   "id": "7560c90d",
   "metadata": {},
   "source": [
    "Broadcasting is an operations used in calculation packages to enable element-wise operations (ex addition) between 2 tensors of different ranks. It essentially just stretches (or pads) the smaller tensor/scalar to a matching dimension then adds them together.\n",
    "\n",
    "Note that this is not exactly a standard operation used in tensor calculus or differential geometry."
   ]
  },
  {
   "cell_type": "code",
   "execution_count": 61,
   "id": "9dc57b5d",
   "metadata": {},
   "outputs": [
    {
     "data": {
      "text/plain": [
       "[[1, 2], [3, 4]]"
      ]
     },
     "execution_count": 61,
     "metadata": {},
     "output_type": "execute_result"
    }
   ],
   "source": [
    "X"
   ]
  },
  {
   "cell_type": "code",
   "execution_count": 62,
   "id": "78c3361a",
   "metadata": {},
   "outputs": [
    {
     "data": {
      "text/plain": [
       "array([[[3, 2],\n",
       "        [3, 2]],\n",
       "\n",
       "       [[2, 3],\n",
       "        [2, 1]]])"
      ]
     },
     "execution_count": 62,
     "metadata": {},
     "output_type": "execute_result"
    }
   ],
   "source": [
    "B"
   ]
  },
  {
   "cell_type": "code",
   "execution_count": 63,
   "id": "24764954",
   "metadata": {},
   "outputs": [
    {
     "data": {
      "text/plain": [
       "array([[[4, 4],\n",
       "        [6, 6]],\n",
       "\n",
       "       [[3, 5],\n",
       "        [5, 5]]])"
      ]
     },
     "execution_count": 63,
     "metadata": {},
     "output_type": "execute_result"
    }
   ],
   "source": [
    "X + B"
   ]
  },
  {
   "cell_type": "markdown",
   "id": "12787269",
   "metadata": {},
   "source": [
    "The above example, the rank 2 tensor X is transformed into a rank 3 tensor with (2, 2, 2) shape where the original rank 2 tensor is duplicated in the first dimension to add to rank 3 tensor B."
   ]
  },
  {
   "cell_type": "markdown",
   "id": "87e29de1",
   "metadata": {},
   "source": []
  }
 ],
 "metadata": {
  "kernelspec": {
   "display_name": "rec-sys",
   "language": "python",
   "name": "python3"
  },
  "language_info": {
   "codemirror_mode": {
    "name": "ipython",
    "version": 3
   },
   "file_extension": ".py",
   "mimetype": "text/x-python",
   "name": "python",
   "nbconvert_exporter": "python",
   "pygments_lexer": "ipython3",
   "version": "3.10.14"
  }
 },
 "nbformat": 4,
 "nbformat_minor": 5
}
