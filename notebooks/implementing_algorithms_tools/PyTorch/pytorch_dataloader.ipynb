{
 "cells": [
  {
   "cell_type": "markdown",
   "id": "814fdedd-d4ff-4a0d-b4cd-386188032558",
   "metadata": {},
   "source": [
    "# PyTorch Data Loaders\n",
    "\n",
    "Data loaders are used to train models by batching the training dataset. This notebook will break down how it works."
   ]
  },
  {
   "cell_type": "code",
   "execution_count": 1,
   "id": "6259423a-e9ae-461b-8a90-4db1926d711d",
   "metadata": {},
   "outputs": [],
   "source": [
    "import torch\n",
    "from torch.utils.data import DataLoader, TensorDataset, Dataset\n",
    "import numpy as np"
   ]
  },
  {
   "cell_type": "code",
   "execution_count": 49,
   "id": "845a2b0c-d66b-4b88-8c07-4e3235ad13a6",
   "metadata": {},
   "outputs": [
    {
     "name": "stderr",
     "output_type": "stream",
     "text": [
      "/tmp/ipykernel_4397/3826351113.py:5: FutureWarning: YF.download() has changed argument auto_adjust default to True\n",
      "  prices = yf.download(\"SPLG\", start='2023-01-01', end='2024-01-01')\n",
      "[*********************100%***********************]  1 of 1 completed"
     ]
    },
    {
     "name": "stdout",
     "output_type": "stream",
     "text": [
      "torch.Size([100, 4])\n",
      "torch.Size([100])\n"
     ]
    },
    {
     "name": "stderr",
     "output_type": "stream",
     "text": [
      "\n"
     ]
    }
   ],
   "source": [
    "import polars as pl\n",
    "import yfinance as yf\n",
    "import re\n",
    "\n",
    "prices = yf.download(\"SPLG\", start='2023-01-01', end='2024-01-01')\n",
    "\n",
    "df = (\n",
    "    pl\n",
    "    .from_pandas(\n",
    "        prices\n",
    "        .reset_index()\n",
    "    ).with_columns(\n",
    "        pl.lit(\"SPLG\").alias(\"Ticker\")\n",
    "    )\n",
    ")\n",
    "\n",
    "df.columns = [re.sub(r\"[^\\w\\s]\",\"\",header.split(\",\")[0]) for header in df.columns]\n",
    "\n",
    "df.head()\n",
    "\n",
    "x_train = torch.FloatTensor(df.select(\"Close\", \"High\", \"Low\", \"Open\").to_numpy()[:100])\n",
    "y_train = torch.FloatTensor(df[\"Volume\"].to_list()[:100])\n",
    "\n",
    "print(x_train.shape)\n",
    "print(y_train.shape)"
   ]
  },
  {
   "cell_type": "code",
   "execution_count": 50,
   "id": "093025f8-bb69-446d-a692-94406bf78019",
   "metadata": {},
   "outputs": [
    {
     "name": "stdout",
     "output_type": "stream",
     "text": [
      "2\n",
      "1\n"
     ]
    }
   ],
   "source": [
    "print(x_train.dim())\n",
    "print(y_train.dim())"
   ]
  },
  {
   "cell_type": "code",
   "execution_count": 51,
   "id": "c8824584-5fd3-430c-88b4-a08cdbe560f0",
   "metadata": {},
   "outputs": [
    {
     "data": {
      "text/plain": [
       "(tensor([43.0921, 43.7176, 42.7553, 43.4866]),)"
      ]
     },
     "execution_count": 51,
     "metadata": {},
     "output_type": "execute_result"
    }
   ],
   "source": [
    "x_tensor_dataset = TensorDataset(x_train)\n",
    "x_tensor_dataset[0]"
   ]
  },
  {
   "cell_type": "code",
   "execution_count": 52,
   "id": "e9358949-a80b-48ab-bdc1-3be819c78a7a",
   "metadata": {},
   "outputs": [
    {
     "data": {
      "text/plain": [
       "(tensor([43.0921, 43.7176, 42.7553, 43.4866]), tensor(3688300.))"
      ]
     },
     "execution_count": 52,
     "metadata": {},
     "output_type": "execute_result"
    }
   ],
   "source": [
    "tensor_dataset = TensorDataset(x_train, y_train)\n",
    "tensor_dataset[0]"
   ]
  },
  {
   "cell_type": "code",
   "execution_count": 53,
   "id": "7a8749dc-18cf-421e-86e9-67b3306c1e67",
   "metadata": {},
   "outputs": [
    {
     "data": {
      "text/plain": [
       "(tensor([43.0921, 43.7176, 42.7553, 43.4866]), tensor(3688300.))"
      ]
     },
     "execution_count": 53,
     "metadata": {},
     "output_type": "execute_result"
    }
   ],
   "source": [
    "x_train[0], y_train[0]"
   ]
  },
  {
   "cell_type": "code",
   "execution_count": 54,
   "id": "c057c435-b044-428e-98e0-92f1d112d9a9",
   "metadata": {},
   "outputs": [],
   "source": [
    "class CustomDataset(Dataset):\n",
    "    def __init__(self, features, labels):\n",
    "        self.features = features\n",
    "        self.labels = labels\n",
    "        \n",
    "    def __len__(self):\n",
    "        # returns length of dataset\n",
    "        return len(self.labels)\n",
    "\n",
    "    def __getitem__(self, idx):\n",
    "        # returns data with given index\n",
    "        return self.features[idx], self.labels[idx]"
   ]
  },
  {
   "cell_type": "code",
   "execution_count": 55,
   "id": "a894b7af-890e-458b-ae59-65fd9344b5cc",
   "metadata": {},
   "outputs": [
    {
     "data": {
      "text/plain": [
       "100"
      ]
     },
     "execution_count": 55,
     "metadata": {},
     "output_type": "execute_result"
    }
   ],
   "source": [
    "custom_dataset = CustomDataset(x_train, y_train)\n",
    "len(custom_dataset)"
   ]
  },
  {
   "cell_type": "code",
   "execution_count": 56,
   "id": "8336abf9-c7a5-4ea2-9b65-38f6914ed725",
   "metadata": {},
   "outputs": [
    {
     "data": {
      "text/plain": [
       "(tensor([[43.0921, 43.7176, 42.7553, 43.4866],\n",
       "         [43.4289, 43.6598, 42.9959, 43.3423],\n",
       "         [42.9285, 43.1979, 42.8611, 43.1883],\n",
       "         [43.9004, 44.0351, 42.9285, 43.2845],\n",
       "         [43.8812, 44.5452, 43.8619, 44.1506]]),\n",
       " tensor([3688300., 4335600., 4449300., 2160500., 4251700.]))"
      ]
     },
     "execution_count": 56,
     "metadata": {},
     "output_type": "execute_result"
    }
   ],
   "source": [
    "custom_dataset[0:5]"
   ]
  },
  {
   "cell_type": "markdown",
   "id": "447780e6-9f42-4cf6-b659-0147472b1b39",
   "metadata": {},
   "source": [
    "## Dataloader"
   ]
  },
  {
   "cell_type": "code",
   "execution_count": 57,
   "id": "7b36f3e5-d469-4ca5-b631-e56c12c5fefc",
   "metadata": {},
   "outputs": [
    {
     "data": {
      "text/plain": [
       "<torch.utils.data.dataloader.DataLoader at 0xffff34369690>"
      ]
     },
     "execution_count": 57,
     "metadata": {},
     "output_type": "execute_result"
    }
   ],
   "source": [
    "batch_size = 10\n",
    "\n",
    "x_train_dataloader = DataLoader(\n",
    "    x_tensor_dataset,\n",
    "    batch_size = batch_size,\n",
    "    shuffle = False,\n",
    "    num_workers = 4\n",
    ")\n",
    "\n",
    "x_train_dataloader"
   ]
  },
  {
   "cell_type": "code",
   "execution_count": 60,
   "id": "97064e4f-553a-438b-a820-e21318e64013",
   "metadata": {},
   "outputs": [
    {
     "name": "stdout",
     "output_type": "stream",
     "text": [
      "1\n",
      "<class 'list'>\n",
      "[tensor([[43.0921, 43.7176, 42.7553, 43.4866],\n",
      "        [43.4289, 43.6598, 42.9959, 43.3423],\n",
      "        [42.9285, 43.1979, 42.8611, 43.1883],\n",
      "        [43.9004, 44.0351, 42.9285, 43.2845],\n",
      "        [43.8812, 44.5452, 43.8619, 44.1506],\n",
      "        [44.1987, 44.1987, 43.7080, 43.8042],\n",
      "        [44.7569, 44.7569, 44.2854, 44.3623],\n",
      "        [44.9205, 45.0841, 44.3912, 44.8820],\n",
      "        [45.1033, 45.1514, 44.5163, 44.5452],\n",
      "        [44.9974, 45.2669, 44.9301, 45.0744]])]\n"
     ]
    }
   ],
   "source": [
    "i = 0\n",
    "for x in x_train_dataloader:\n",
    "    if i == 0:\n",
    "        print(len(x))\n",
    "        print(type(x))\n",
    "        print(x)\n",
    "    i += 1    "
   ]
  },
  {
   "cell_type": "code",
   "execution_count": 61,
   "id": "68f3182a-ef87-4a4d-bb1a-2aa3115f1f10",
   "metadata": {},
   "outputs": [
    {
     "data": {
      "text/plain": [
       "<torch.utils.data.dataloader.DataLoader at 0xffff3436b190>"
      ]
     },
     "execution_count": 61,
     "metadata": {},
     "output_type": "execute_result"
    }
   ],
   "source": [
    "batch_size = 10\n",
    "\n",
    "train_dataloader = DataLoader(\n",
    "    tensor_dataset,\n",
    "    batch_size = batch_size,\n",
    "    shuffle = False,\n",
    "    num_workers = 4\n",
    ")\n",
    "\n",
    "train_dataloader"
   ]
  },
  {
   "cell_type": "code",
   "execution_count": 65,
   "id": "e7bdca90-0d6b-4be8-a64e-878d26481cf0",
   "metadata": {},
   "outputs": [
    {
     "name": "stdout",
     "output_type": "stream",
     "text": [
      "1\n",
      "<class 'list'>\n",
      "[tensor([[43.0921, 43.7176, 42.7553, 43.4866],\n",
      "        [43.4289, 43.6598, 42.9959, 43.3423],\n",
      "        [42.9285, 43.1979, 42.8611, 43.1883],\n",
      "        [43.9004, 44.0351, 42.9285, 43.2845],\n",
      "        [43.8812, 44.5452, 43.8619, 44.1506],\n",
      "        [44.1987, 44.1987, 43.7080, 43.8042],\n",
      "        [44.7569, 44.7569, 44.2854, 44.3623],\n",
      "        [44.9205, 45.0841, 44.3912, 44.8820],\n",
      "        [45.1033, 45.1514, 44.5163, 44.5452],\n",
      "        [44.9974, 45.2669, 44.9301, 45.0744]])]\n"
     ]
    }
   ],
   "source": [
    "i = 0\n",
    "for x in x_train_dataloader:\n",
    "    if i == 0:\n",
    "        print(len(x))\n",
    "        print(type(x))\n",
    "        print(x)\n",
    "    i += 1  "
   ]
  },
  {
   "cell_type": "code",
   "execution_count": 66,
   "id": "20d9aa5e-c3f7-45df-9a1f-9d7f2d1a61ea",
   "metadata": {},
   "outputs": [
    {
     "name": "stdout",
     "output_type": "stream",
     "text": [
      "10\n",
      "<class 'torch.Tensor'>\n",
      "tensor([[43.0921, 43.7176, 42.7553, 43.4866],\n",
      "        [43.4289, 43.6598, 42.9959, 43.3423],\n",
      "        [42.9285, 43.1979, 42.8611, 43.1883],\n",
      "        [43.9004, 44.0351, 42.9285, 43.2845],\n",
      "        [43.8812, 44.5452, 43.8619, 44.1506],\n",
      "        [44.1987, 44.1987, 43.7080, 43.8042],\n",
      "        [44.7569, 44.7569, 44.2854, 44.3623],\n",
      "        [44.9205, 45.0841, 44.3912, 44.8820],\n",
      "        [45.1033, 45.1514, 44.5163, 44.5452],\n",
      "        [44.9974, 45.2669, 44.9301, 45.0744]])\n",
      "tensor([3688300., 4335600., 4449300., 2160500., 4251700., 2303400., 8119200.,\n",
      "        3996900., 3308800., 4826600.])\n"
     ]
    }
   ],
   "source": [
    "i = 0\n",
    "for x, y in train_dataloader:\n",
    "    if i == 0:\n",
    "        print(len(x))\n",
    "        print(type(x))\n",
    "        print(x)\n",
    "        print(y)\n",
    "    i += 1  "
   ]
  },
  {
   "cell_type": "code",
   "execution_count": null,
   "id": "e4c5c0b2-9f74-4388-aea0-9ec8b07f6b5c",
   "metadata": {},
   "outputs": [],
   "source": []
  }
 ],
 "metadata": {
  "kernelspec": {
   "display_name": "Python 3 (ipykernel)",
   "language": "python",
   "name": "python3"
  },
  "language_info": {
   "codemirror_mode": {
    "name": "ipython",
    "version": 3
   },
   "file_extension": ".py",
   "mimetype": "text/x-python",
   "name": "python",
   "nbconvert_exporter": "python",
   "pygments_lexer": "ipython3",
   "version": "3.10.14"
  }
 },
 "nbformat": 4,
 "nbformat_minor": 5
}
