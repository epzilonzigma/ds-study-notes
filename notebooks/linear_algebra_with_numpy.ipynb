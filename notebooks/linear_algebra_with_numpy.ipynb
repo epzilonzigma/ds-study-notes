{
 "cells": [
  {
   "cell_type": "markdown",
   "id": "5bf919d4-1432-49b1-97b4-8213646aa48f",
   "metadata": {},
   "source": [
    "# Doing Linear Algebra with Numpy"
   ]
  },
  {
   "cell_type": "code",
   "execution_count": 1,
   "id": "99ea8b0b-0603-4eb9-89a1-5da856110ba5",
   "metadata": {},
   "outputs": [],
   "source": [
    "import numpy as np"
   ]
  },
  {
   "cell_type": "markdown",
   "id": "061e7573-0902-4d17-882c-08e218d533f9",
   "metadata": {},
   "source": [
    "# Numpy data types"
   ]
  },
  {
   "cell_type": "markdown",
   "id": "813adc8d",
   "metadata": {},
   "source": [
    "## Arrays\n",
    "\n",
    "Although matrices exist in Numpy, they are on their way to be deprecated. All non-scalar operations should be done with arrays.\n",
    "Below are different ways of creating arrays."
   ]
  },
  {
   "cell_type": "code",
   "execution_count": 2,
   "id": "a8c97508-5d1f-4df0-8e25-302112dc00dd",
   "metadata": {},
   "outputs": [
    {
     "name": "stdout",
     "output_type": "stream",
     "text": [
      "<class 'numpy.ndarray'>\n",
      "(5,)\n",
      "5\n",
      "1\n",
      "1\n"
     ]
    },
    {
     "data": {
      "text/plain": [
       "array([1, 2, 3, 4, 5])"
      ]
     },
     "execution_count": 2,
     "metadata": {},
     "output_type": "execute_result"
    }
   ],
   "source": [
    "arr = np.array([1,2,3,4,5])\n",
    "print(type(arr))\n",
    "print(arr.shape)\n",
    "print(len(arr))\n",
    "print(arr.ndim) #dimensions of array\n",
    "print(arr[0]) #0-based index\n",
    "arr"
   ]
  },
  {
   "cell_type": "code",
   "execution_count": 3,
   "id": "f6def631",
   "metadata": {},
   "outputs": [
    {
     "name": "stdout",
     "output_type": "stream",
     "text": [
      "<class 'numpy.ndarray'>\n",
      "()\n",
      "0\n"
     ]
    },
    {
     "data": {
      "text/plain": [
       "array(42)"
      ]
     },
     "execution_count": 3,
     "metadata": {},
     "output_type": "execute_result"
    }
   ],
   "source": [
    "arr = np.array(42)\n",
    "print(type(arr))\n",
    "print(arr.shape)\n",
    "# print(len(arr)) - this will give an error because the arr is 0-dimension!\n",
    "print(arr.ndim)\n",
    "arr"
   ]
  },
  {
   "cell_type": "code",
   "execution_count": 4,
   "id": "7514dfe5",
   "metadata": {},
   "outputs": [
    {
     "name": "stdout",
     "output_type": "stream",
     "text": [
      "<class 'numpy.ndarray'>\n",
      "(1,)\n",
      "1\n",
      "1\n"
     ]
    },
    {
     "data": {
      "text/plain": [
       "array([42])"
      ]
     },
     "execution_count": 4,
     "metadata": {},
     "output_type": "execute_result"
    }
   ],
   "source": [
    "arr = np.array([42])\n",
    "print(type(arr))\n",
    "print(arr.shape)\n",
    "print(len(arr)) # this is fine because it is an array with length 1 since list was entered\n",
    "print(arr.ndim)\n",
    "arr"
   ]
  },
  {
   "cell_type": "markdown",
   "id": "551dff08",
   "metadata": {},
   "source": [
    "Let's create the following matrix as a numpy array:\n",
    "\n",
    "$$\n",
    "    \\begin{pmatrix}\n",
    "        1 & 2 \\\\\n",
    "        3 & 4 \\\\\n",
    "    \\end{pmatrix}\n",
    "$$"
   ]
  },
  {
   "cell_type": "markdown",
   "id": "354ea628",
   "metadata": {},
   "source": []
  },
  {
   "cell_type": "code",
   "execution_count": 5,
   "id": "f59e3a62",
   "metadata": {},
   "outputs": [
    {
     "name": "stdout",
     "output_type": "stream",
     "text": [
      "<class 'numpy.ndarray'>\n",
      "(2, 2)\n",
      "2\n",
      "2\n",
      "2\n"
     ]
    },
    {
     "data": {
      "text/plain": [
       "array([[1, 2],\n",
       "       [3, 4]])"
      ]
     },
     "execution_count": 5,
     "metadata": {},
     "output_type": "execute_result"
    }
   ],
   "source": [
    "arr = np.array([[1,2],[3, 4]]) # first array for columns, 2nd array for row (column vector of row vectors)\n",
    "print(type(arr))\n",
    "print(arr.shape)\n",
    "print(len(arr))\n",
    "print(arr.ndim)\n",
    "print(arr[0,1]) #0-based index for matrix\n",
    "arr"
   ]
  },
  {
   "cell_type": "markdown",
   "id": "9bd18fb1",
   "metadata": {},
   "source": [
    "Let's create the following matrix as a numpy array:\n",
    "\n",
    "$$\n",
    "    \\begin{pmatrix}\n",
    "        1 & 2 \\\\\n",
    "        3 & 4 \\\\\n",
    "        5 & 6 \\\\\n",
    "    \\end{pmatrix}\n",
    "$$"
   ]
  },
  {
   "cell_type": "code",
   "execution_count": 6,
   "id": "8684d556",
   "metadata": {},
   "outputs": [
    {
     "name": "stdout",
     "output_type": "stream",
     "text": [
      "<class 'numpy.ndarray'>\n",
      "(3, 2)\n",
      "3\n",
      "2\n",
      "3\n"
     ]
    },
    {
     "data": {
      "text/plain": [
       "array([[1, 2],\n",
       "       [3, 4],\n",
       "       [5, 6]])"
      ]
     },
     "execution_count": 6,
     "metadata": {},
     "output_type": "execute_result"
    }
   ],
   "source": [
    "arr = np.array([[1,2],[3, 4],[5, 6]]) # first array for columns, 2nd array for row (column vector of row vectors)\n",
    "print(type(arr))\n",
    "print(arr.shape)\n",
    "print(len(arr))\n",
    "print(arr.ndim)\n",
    "print(arr[1,0]) #0 based indexing \n",
    "arr"
   ]
  },
  {
   "cell_type": "markdown",
   "id": "c25e1c61",
   "metadata": {},
   "source": [
    "Now let's make a 3 dimensional numpy array (tensor)."
   ]
  },
  {
   "cell_type": "code",
   "execution_count": 7,
   "id": "12c3285c",
   "metadata": {},
   "outputs": [
    {
     "name": "stdout",
     "output_type": "stream",
     "text": [
      "<class 'numpy.ndarray'>\n",
      "(2, 2, 2)\n",
      "2\n",
      "3\n",
      "6\n"
     ]
    },
    {
     "data": {
      "text/plain": [
       "array([[[1, 2],\n",
       "        [3, 4]],\n",
       "\n",
       "       [[5, 6],\n",
       "        [7, 8]]])"
      ]
     },
     "execution_count": 7,
     "metadata": {},
     "output_type": "execute_result"
    }
   ],
   "source": [
    "arr = np.array([[[1,2],[3, 4]],[[5,6],[7,8]]])\n",
    "print(type(arr))\n",
    "print(arr.shape)\n",
    "print(len(arr))\n",
    "print(arr.ndim)\n",
    "print(arr[1,0,1]) #0 based indexing \n",
    "arr"
   ]
  },
  {
   "cell_type": "code",
   "execution_count": 8,
   "id": "71d6e083",
   "metadata": {},
   "outputs": [
    {
     "name": "stdout",
     "output_type": "stream",
     "text": [
      "[[1 2]\n",
      " [3 4]]\n",
      "[7 8]\n"
     ]
    }
   ],
   "source": [
    "# more on indexing\n",
    "\n",
    "print(arr[0]) #this takes the 1st matrix out of the 3-d array from before\n",
    "print(arr[1,1]) #this takes the 2nd row of the 2nd matrix"
   ]
  },
  {
   "cell_type": "code",
   "execution_count": null,
   "id": "5ec0e2de",
   "metadata": {},
   "outputs": [],
   "source": []
  }
 ],
 "metadata": {
  "kernelspec": {
   "display_name": "rec-sys",
   "language": "python",
   "name": "python3"
  },
  "language_info": {
   "codemirror_mode": {
    "name": "ipython",
    "version": 3
   },
   "file_extension": ".py",
   "mimetype": "text/x-python",
   "name": "python",
   "nbconvert_exporter": "python",
   "pygments_lexer": "ipython3",
   "version": "3.10.14"
  }
 },
 "nbformat": 4,
 "nbformat_minor": 5
}
