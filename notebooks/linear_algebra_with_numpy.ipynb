{
 "cells": [
  {
   "cell_type": "markdown",
   "id": "5bf919d4-1432-49b1-97b4-8213646aa48f",
   "metadata": {},
   "source": [
    "# Doing Linear Algebra with Numpy"
   ]
  },
  {
   "cell_type": "code",
   "execution_count": 1,
   "id": "99ea8b0b-0603-4eb9-89a1-5da856110ba5",
   "metadata": {},
   "outputs": [],
   "source": [
    "import numpy as np"
   ]
  },
  {
   "cell_type": "markdown",
   "id": "061e7573-0902-4d17-882c-08e218d533f9",
   "metadata": {},
   "source": [
    "# Numpy data types"
   ]
  },
  {
   "cell_type": "markdown",
   "id": "813adc8d",
   "metadata": {},
   "source": [
    "## Arrays\n",
    "\n",
    "Although matrices exist in Numpy, they are on their way to be deprecated. All non-scalar operations should be done with arrays.\n",
    "Below are different ways of creating arrays."
   ]
  },
  {
   "cell_type": "code",
   "execution_count": 2,
   "id": "a8c97508-5d1f-4df0-8e25-302112dc00dd",
   "metadata": {},
   "outputs": [
    {
     "name": "stdout",
     "output_type": "stream",
     "text": [
      "<class 'numpy.ndarray'>\n",
      "(5,)\n",
      "5\n",
      "1\n",
      "1\n"
     ]
    },
    {
     "data": {
      "text/plain": [
       "array([1, 2, 3, 4, 5])"
      ]
     },
     "execution_count": 2,
     "metadata": {},
     "output_type": "execute_result"
    }
   ],
   "source": [
    "arr = np.array([1,2,3,4,5])\n",
    "print(type(arr))\n",
    "print(arr.shape)\n",
    "print(len(arr))\n",
    "print(arr.ndim) #dimensions of array = this means the number of \"axes\" an array has and not the dimension of the matrix itself\n",
    "print(arr[0]) #0-based index\n",
    "arr"
   ]
  },
  {
   "cell_type": "code",
   "execution_count": 3,
   "id": "f6def631",
   "metadata": {},
   "outputs": [
    {
     "name": "stdout",
     "output_type": "stream",
     "text": [
      "<class 'numpy.ndarray'>\n",
      "()\n",
      "0\n"
     ]
    },
    {
     "data": {
      "text/plain": [
       "array(42)"
      ]
     },
     "execution_count": 3,
     "metadata": {},
     "output_type": "execute_result"
    }
   ],
   "source": [
    "arr = np.array(42)\n",
    "print(type(arr))\n",
    "print(arr.shape)\n",
    "# print(len(arr)) - this will give an error because the arr is 0-dimension!\n",
    "print(arr.ndim)\n",
    "arr"
   ]
  },
  {
   "cell_type": "code",
   "execution_count": 4,
   "id": "7514dfe5",
   "metadata": {},
   "outputs": [
    {
     "name": "stdout",
     "output_type": "stream",
     "text": [
      "<class 'numpy.ndarray'>\n",
      "(1,)\n",
      "1\n",
      "1\n"
     ]
    },
    {
     "data": {
      "text/plain": [
       "array([42])"
      ]
     },
     "execution_count": 4,
     "metadata": {},
     "output_type": "execute_result"
    }
   ],
   "source": [
    "arr = np.array([42])\n",
    "print(type(arr))\n",
    "print(arr.shape)\n",
    "print(len(arr)) # this is fine because it is an array with length 1 since list was entered\n",
    "print(arr.ndim)\n",
    "arr"
   ]
  },
  {
   "cell_type": "markdown",
   "id": "551dff08",
   "metadata": {},
   "source": [
    "Let's create the following matrix as a numpy array:\n",
    "\n",
    "$$\n",
    "    \\begin{pmatrix}\n",
    "        1 & 2 \\\\\n",
    "        3 & 4 \\\\\n",
    "    \\end{pmatrix}\n",
    "$$"
   ]
  },
  {
   "cell_type": "markdown",
   "id": "354ea628",
   "metadata": {},
   "source": []
  },
  {
   "cell_type": "code",
   "execution_count": 5,
   "id": "f59e3a62",
   "metadata": {},
   "outputs": [
    {
     "name": "stdout",
     "output_type": "stream",
     "text": [
      "<class 'numpy.ndarray'>\n",
      "(2, 2)\n",
      "2\n",
      "2\n",
      "2\n"
     ]
    },
    {
     "data": {
      "text/plain": [
       "array([[1, 2],\n",
       "       [3, 4]])"
      ]
     },
     "execution_count": 5,
     "metadata": {},
     "output_type": "execute_result"
    }
   ],
   "source": [
    "arr = np.array([[1,2],[3, 4]]) # first array for columns, 2nd array for row (column vector of row vectors)\n",
    "print(type(arr))\n",
    "print(arr.shape)\n",
    "print(len(arr))\n",
    "print(arr.ndim)\n",
    "print(arr[0,1]) #0-based index for matrix\n",
    "arr"
   ]
  },
  {
   "cell_type": "markdown",
   "id": "9bd18fb1",
   "metadata": {},
   "source": [
    "Let's create the following matrix as a numpy array:\n",
    "\n",
    "$$\n",
    "    \\begin{pmatrix}\n",
    "        1 & 2 \\\\\n",
    "        3 & 4 \\\\\n",
    "        5 & 6 \\\\\n",
    "    \\end{pmatrix}\n",
    "$$"
   ]
  },
  {
   "cell_type": "code",
   "execution_count": 6,
   "id": "8684d556",
   "metadata": {},
   "outputs": [
    {
     "name": "stdout",
     "output_type": "stream",
     "text": [
      "<class 'numpy.ndarray'>\n",
      "(3, 2)\n",
      "3\n",
      "2\n",
      "3\n"
     ]
    },
    {
     "data": {
      "text/plain": [
       "array([[1, 2],\n",
       "       [3, 4],\n",
       "       [5, 6]])"
      ]
     },
     "execution_count": 6,
     "metadata": {},
     "output_type": "execute_result"
    }
   ],
   "source": [
    "arr = np.array([[1,2],[3, 4],[5, 6]]) # first array for columns, 2nd array for row (column vector of row vectors)\n",
    "print(type(arr))\n",
    "print(arr.shape)\n",
    "print(len(arr))\n",
    "print(arr.ndim)\n",
    "print(arr[1,0]) #0 based indexing \n",
    "arr"
   ]
  },
  {
   "cell_type": "markdown",
   "id": "c25e1c61",
   "metadata": {},
   "source": [
    "Now let's make a 3 dimensional numpy array (tensor)."
   ]
  },
  {
   "cell_type": "code",
   "execution_count": 19,
   "id": "12c3285c",
   "metadata": {},
   "outputs": [
    {
     "name": "stdout",
     "output_type": "stream",
     "text": [
      "<class 'numpy.ndarray'>\n",
      "(2, 2, 2)\n",
      "2\n",
      "3\n",
      "6\n",
      "8\n"
     ]
    },
    {
     "data": {
      "text/plain": [
       "array([[[1, 2],\n",
       "        [3, 4]],\n",
       "\n",
       "       [[5, 6],\n",
       "        [7, 8]]])"
      ]
     },
     "execution_count": 19,
     "metadata": {},
     "output_type": "execute_result"
    }
   ],
   "source": [
    "arr = np.array([[[1,2],[3, 4]],[[5,6],[7,8]]])\n",
    "print(type(arr))\n",
    "print(arr.shape)\n",
    "print(len(arr))\n",
    "print(arr.ndim)\n",
    "print(arr[1,0,1]) #0 based indexing \n",
    "print(arr.size) #number of scalar entries in an array\n",
    "arr"
   ]
  },
  {
   "cell_type": "code",
   "execution_count": 8,
   "id": "71d6e083",
   "metadata": {},
   "outputs": [
    {
     "name": "stdout",
     "output_type": "stream",
     "text": [
      "[[1 2]\n",
      " [3 4]]\n",
      "--\n",
      "[7 8]\n"
     ]
    }
   ],
   "source": [
    "# more on indexing\n",
    "\n",
    "print(arr[0]) #this takes the 1st matrix out of the 3-d array from before\n",
    "print(\"--\")\n",
    "print(arr[1,1]) #this takes the 2nd row of the 2nd matrix"
   ]
  },
  {
   "cell_type": "markdown",
   "id": "5ec0e2de",
   "metadata": {},
   "source": [
    "### Special vectors and matrices"
   ]
  },
  {
   "cell_type": "code",
   "execution_count": 14,
   "id": "8e822114",
   "metadata": {},
   "outputs": [
    {
     "name": "stdout",
     "output_type": "stream",
     "text": [
      "[[1 0 0]\n",
      " [0 2 0]\n",
      " [0 0 3]]\n"
     ]
    }
   ],
   "source": [
    "# diagonal matrix\n",
    "diag = np.diag([1,2,3])\n",
    "print(diag)"
   ]
  },
  {
   "cell_type": "code",
   "execution_count": 15,
   "id": "95bf2542",
   "metadata": {},
   "outputs": [
    {
     "name": "stdout",
     "output_type": "stream",
     "text": [
      "[[1. 0. 0.]\n",
      " [0. 1. 0.]\n",
      " [0. 0. 1.]]\n"
     ]
    }
   ],
   "source": [
    "# identity matrix\n",
    "id = np.identity(3)\n",
    "print(id)"
   ]
  },
  {
   "cell_type": "code",
   "execution_count": 20,
   "id": "847bf8be",
   "metadata": {},
   "outputs": [
    {
     "data": {
      "text/plain": [
       "array([0, 1, 2, 3])"
      ]
     },
     "execution_count": 20,
     "metadata": {},
     "output_type": "execute_result"
    }
   ],
   "source": [
    "# incrementing\n",
    "np.arange(4)"
   ]
  },
  {
   "cell_type": "code",
   "execution_count": 21,
   "id": "45bfd3c3",
   "metadata": {},
   "outputs": [
    {
     "data": {
      "text/plain": [
       "array([2, 4, 6, 8])"
      ]
     },
     "execution_count": 21,
     "metadata": {},
     "output_type": "execute_result"
    }
   ],
   "source": [
    "np.arange(2, 9, 2) #from 2 to 9, skip by 2"
   ]
  },
  {
   "cell_type": "code",
   "execution_count": 22,
   "id": "c97ec871",
   "metadata": {},
   "outputs": [
    {
     "data": {
      "text/plain": [
       "array([ 0.,  5., 10., 15., 20.])"
      ]
     },
     "execution_count": 22,
     "metadata": {},
     "output_type": "execute_result"
    }
   ],
   "source": [
    "np.linspace(0, 20, num = 5) #can do even splits between a range (in this case 0 to 20, give 5 evenly spaced values)"
   ]
  },
  {
   "cell_type": "code",
   "execution_count": 27,
   "id": "fdb05ca1",
   "metadata": {},
   "outputs": [
    {
     "data": {
      "text/plain": [
       "array([[1, 1, 1],\n",
       "       [1, 1, 1]])"
      ]
     },
     "execution_count": 27,
     "metadata": {},
     "output_type": "execute_result"
    }
   ],
   "source": [
    "np.ones((2,3), dtype=np.int64) # arrays of ones"
   ]
  },
  {
   "cell_type": "markdown",
   "id": "104f4f0e",
   "metadata": {},
   "source": [
    "### Operating within the array"
   ]
  },
  {
   "cell_type": "code",
   "execution_count": 29,
   "id": "1ed7b7ec",
   "metadata": {},
   "outputs": [
    {
     "data": {
      "text/plain": [
       "array([1, 2, 3, 4, 5, 6, 7, 8])"
      ]
     },
     "execution_count": 29,
     "metadata": {},
     "output_type": "execute_result"
    }
   ],
   "source": [
    "a = np.array([1, 2, 3, 4])\n",
    "b = np.array([5, 6, 7, 8])\n",
    "\n",
    "np.concat((a, b))"
   ]
  },
  {
   "cell_type": "code",
   "execution_count": 35,
   "id": "94b02a0e",
   "metadata": {},
   "outputs": [
    {
     "data": {
      "text/plain": [
       "array([[1, 2],\n",
       "       [3, 4],\n",
       "       [5, 6]])"
      ]
     },
     "execution_count": 35,
     "metadata": {},
     "output_type": "execute_result"
    }
   ],
   "source": [
    "x = np.array([[1, 2], [3, 4]])\n",
    "y = np.array([[5, 6]])\n",
    "\n",
    "np.concat((x,y))"
   ]
  },
  {
   "cell_type": "code",
   "execution_count": 37,
   "id": "4665d605",
   "metadata": {},
   "outputs": [
    {
     "name": "stdout",
     "output_type": "stream",
     "text": [
      "(6,)\n",
      "(1, 6)\n",
      "(6, 1)\n"
     ]
    }
   ],
   "source": [
    "# converting 1D arrays to 2\n",
    "\n",
    "a = np.array([1, 2, 3, 4, 5, 6])\n",
    "print(a.shape)\n",
    "row_vector = a[np.newaxis, :]\n",
    "print(row_vector.shape)\n",
    "col_vector = a[:, np.newaxis]\n",
    "print(col_vector.shape)\n"
   ]
  },
  {
   "cell_type": "code",
   "execution_count": 38,
   "id": "c321975b",
   "metadata": {},
   "outputs": [
    {
     "name": "stdout",
     "output_type": "stream",
     "text": [
      "(6, 1)\n",
      "(1, 6)\n"
     ]
    }
   ],
   "source": [
    "#alternatives\n",
    "col_vector = np.expand_dims(a, axis=1)\n",
    "print(col_vector.shape)\n",
    "row_vector = np.expand_dims(a, axis=0)\n",
    "print(row_vector.shape)\n"
   ]
  },
  {
   "cell_type": "code",
   "execution_count": 40,
   "id": "99c4e792",
   "metadata": {},
   "outputs": [
    {
     "data": {
      "text/plain": [
       "array([[1, 1],\n",
       "       [2, 2],\n",
       "       [3, 3],\n",
       "       [4, 4]])"
      ]
     },
     "execution_count": 40,
     "metadata": {},
     "output_type": "execute_result"
    }
   ],
   "source": [
    "# combining/concatenating matrices together\n",
    "\n",
    "a1 = np.array([[1, 1],\n",
    "               [2, 2]])\n",
    "a2 = np.array([[3, 3],\n",
    "               [4, 4]])\n",
    "\n",
    "np.vstack((a1, a2))"
   ]
  },
  {
   "cell_type": "code",
   "execution_count": 41,
   "id": "2dba89b8",
   "metadata": {},
   "outputs": [
    {
     "data": {
      "text/plain": [
       "array([[1, 1, 3, 3],\n",
       "       [2, 2, 4, 4]])"
      ]
     },
     "execution_count": 41,
     "metadata": {},
     "output_type": "execute_result"
    }
   ],
   "source": [
    "np.hstack((a1,a2))"
   ]
  },
  {
   "cell_type": "markdown",
   "id": "733caee5",
   "metadata": {},
   "source": [
    "# Linear algebra operations"
   ]
  },
  {
   "cell_type": "markdown",
   "id": "04473f09",
   "metadata": {},
   "source": [
    "## Addition and subtraction"
   ]
  },
  {
   "cell_type": "code",
   "execution_count": 45,
   "id": "71d1540d",
   "metadata": {},
   "outputs": [
    {
     "name": "stdout",
     "output_type": "stream",
     "text": [
      "[0 1 2]\n",
      "[1. 1. 1.]\n"
     ]
    },
    {
     "data": {
      "text/plain": [
       "array([1., 2., 3.])"
      ]
     },
     "execution_count": 45,
     "metadata": {},
     "output_type": "execute_result"
    }
   ],
   "source": [
    "# vectors (1-d array)\n",
    "\n",
    "a = np.arange(3)\n",
    "b = np.ones(3)\n",
    "\n",
    "print(a)\n",
    "print(b)\n",
    "a + b"
   ]
  },
  {
   "cell_type": "code",
   "execution_count": 46,
   "id": "2a5c0995",
   "metadata": {},
   "outputs": [
    {
     "data": {
      "text/plain": [
       "array([-1.,  0.,  1.])"
      ]
     },
     "execution_count": 46,
     "metadata": {},
     "output_type": "execute_result"
    }
   ],
   "source": [
    "a - b"
   ]
  },
  {
   "cell_type": "code",
   "execution_count": 47,
   "id": "e57bd7d5",
   "metadata": {},
   "outputs": [
    {
     "name": "stdout",
     "output_type": "stream",
     "text": [
      "[[0 1 2]\n",
      " [3 4 5]]\n",
      "[[1. 1. 1.]\n",
      " [1. 1. 1.]]\n"
     ]
    },
    {
     "data": {
      "text/plain": [
       "array([[1., 2., 3.],\n",
       "       [4., 5., 6.]])"
      ]
     },
     "execution_count": 47,
     "metadata": {},
     "output_type": "execute_result"
    }
   ],
   "source": [
    "# matrices (2-d array)\n",
    "\n",
    "a = np.arange(6).reshape(2,3)\n",
    "b = np.ones(6).reshape(2,3)\n",
    "print(a)\n",
    "print(b)\n",
    "a + b"
   ]
  },
  {
   "cell_type": "code",
   "execution_count": 48,
   "id": "82b7729e",
   "metadata": {},
   "outputs": [
    {
     "data": {
      "text/plain": [
       "array([[-1.,  0.,  1.],\n",
       "       [ 2.,  3.,  4.]])"
      ]
     },
     "execution_count": 48,
     "metadata": {},
     "output_type": "execute_result"
    }
   ],
   "source": [
    "a - b"
   ]
  },
  {
   "cell_type": "code",
   "execution_count": 49,
   "id": "f26b0bea",
   "metadata": {},
   "outputs": [
    {
     "name": "stdout",
     "output_type": "stream",
     "text": [
      "[[[ 0  1  2]\n",
      "  [ 3  4  5]\n",
      "  [ 6  7  8]]\n",
      "\n",
      " [[ 9 10 11]\n",
      "  [12 13 14]\n",
      "  [15 16 17]]]\n",
      "[[[1. 1. 1.]\n",
      "  [1. 1. 1.]\n",
      "  [1. 1. 1.]]\n",
      "\n",
      " [[1. 1. 1.]\n",
      "  [1. 1. 1.]\n",
      "  [1. 1. 1.]]]\n"
     ]
    },
    {
     "data": {
      "text/plain": [
       "array([[[ 1.,  2.,  3.],\n",
       "        [ 4.,  5.,  6.],\n",
       "        [ 7.,  8.,  9.]],\n",
       "\n",
       "       [[10., 11., 12.],\n",
       "        [13., 14., 15.],\n",
       "        [16., 17., 18.]]])"
      ]
     },
     "execution_count": 49,
     "metadata": {},
     "output_type": "execute_result"
    }
   ],
   "source": [
    "# tensors\n",
    "\n",
    "a = np.arange(18).reshape(2,3,3)\n",
    "b = np.ones(18).reshape(2,3,3)\n",
    "print(a)\n",
    "print(b)\n",
    "a + b\n"
   ]
  },
  {
   "cell_type": "code",
   "execution_count": 50,
   "id": "448fafc7",
   "metadata": {},
   "outputs": [
    {
     "ename": "ValueError",
     "evalue": "operands could not be broadcast together with shapes (3,2) (2,3) ",
     "output_type": "error",
     "traceback": [
      "\u001b[0;31m---------------------------------------------------------------------------\u001b[0m",
      "\u001b[0;31mValueError\u001b[0m                                Traceback (most recent call last)",
      "Cell \u001b[0;32mIn[50], line 5\u001b[0m\n\u001b[1;32m      2\u001b[0m a \u001b[38;5;241m=\u001b[39m np\u001b[38;5;241m.\u001b[39marange(\u001b[38;5;241m6\u001b[39m)\u001b[38;5;241m.\u001b[39mreshape(\u001b[38;5;241m3\u001b[39m, \u001b[38;5;241m2\u001b[39m)\n\u001b[1;32m      3\u001b[0m b \u001b[38;5;241m=\u001b[39m np\u001b[38;5;241m.\u001b[39mones(\u001b[38;5;241m6\u001b[39m)\u001b[38;5;241m.\u001b[39mreshape(\u001b[38;5;241m2\u001b[39m,\u001b[38;5;241m3\u001b[39m)\n\u001b[0;32m----> 5\u001b[0m \u001b[43ma\u001b[49m\u001b[43m \u001b[49m\u001b[38;5;241;43m+\u001b[39;49m\u001b[43m \u001b[49m\u001b[43mb\u001b[49m\n",
      "\u001b[0;31mValueError\u001b[0m: operands could not be broadcast together with shapes (3,2) (2,3) "
     ]
    }
   ],
   "source": [
    "# when dimensions don't match\n",
    "a = np.arange(6).reshape(3, 2)\n",
    "b = np.ones(6).reshape(2,3)\n",
    "\n",
    "a + b"
   ]
  },
  {
   "cell_type": "code",
   "execution_count": null,
   "id": "d61ee82a",
   "metadata": {},
   "outputs": [],
   "source": []
  }
 ],
 "metadata": {
  "kernelspec": {
   "display_name": "rec-sys",
   "language": "python",
   "name": "python3"
  },
  "language_info": {
   "codemirror_mode": {
    "name": "ipython",
    "version": 3
   },
   "file_extension": ".py",
   "mimetype": "text/x-python",
   "name": "python",
   "nbconvert_exporter": "python",
   "pygments_lexer": "ipython3",
   "version": "3.10.14"
  }
 },
 "nbformat": 4,
 "nbformat_minor": 5
}
