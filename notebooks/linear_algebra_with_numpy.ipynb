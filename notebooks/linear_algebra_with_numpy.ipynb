{
 "cells": [
  {
   "cell_type": "markdown",
   "id": "5bf919d4-1432-49b1-97b4-8213646aa48f",
   "metadata": {},
   "source": [
    "# Doing Linear Algebra with Numpy"
   ]
  },
  {
   "cell_type": "code",
   "execution_count": 1,
   "id": "99ea8b0b-0603-4eb9-89a1-5da856110ba5",
   "metadata": {},
   "outputs": [],
   "source": [
    "import numpy as np"
   ]
  },
  {
   "cell_type": "markdown",
   "id": "061e7573-0902-4d17-882c-08e218d533f9",
   "metadata": {},
   "source": [
    "# Numpy data types"
   ]
  },
  {
   "cell_type": "markdown",
   "id": "813adc8d",
   "metadata": {},
   "source": [
    "## Arrays\n",
    "\n",
    "Although matrices exist in Numpy, they are on their way to be deprecated. All non-scalar operations should be done with arrays.\n",
    "Below are different ways of creating arrays."
   ]
  },
  {
   "cell_type": "code",
   "execution_count": 2,
   "id": "a8c97508-5d1f-4df0-8e25-302112dc00dd",
   "metadata": {},
   "outputs": [
    {
     "name": "stdout",
     "output_type": "stream",
     "text": [
      "<class 'numpy.ndarray'>\n",
      "(5,)\n",
      "5\n",
      "1\n",
      "1\n"
     ]
    },
    {
     "data": {
      "text/plain": [
       "array([1, 2, 3, 4, 5])"
      ]
     },
     "execution_count": 2,
     "metadata": {},
     "output_type": "execute_result"
    }
   ],
   "source": [
    "arr = np.array([1,2,3,4,5])\n",
    "print(type(arr))\n",
    "print(arr.shape)\n",
    "print(len(arr))\n",
    "print(arr.ndim) #dimensions of array = this means the number of \"axes\" an array has and not the dimension of the matrix itself\n",
    "print(arr[0]) #0-based index\n",
    "arr"
   ]
  },
  {
   "cell_type": "code",
   "execution_count": 3,
   "id": "2aa8efc6",
   "metadata": {},
   "outputs": [
    {
     "name": "stdout",
     "output_type": "stream",
     "text": [
      "[[1]\n",
      " [2]\n",
      " [3]]\n",
      "(3, 1)\n",
      "[[1 2 3]]\n",
      "(1, 3)\n"
     ]
    }
   ],
   "source": [
    "# in linear algebra terms\n",
    "\n",
    "row_vector = np.array([[1],[2],[3]])\n",
    "print(row_vector)\n",
    "print(row_vector.shape)\n",
    "column_vector = np.array([[1,2,3]])\n",
    "print(column_vector)\n",
    "print(column_vector.shape)"
   ]
  },
  {
   "cell_type": "code",
   "execution_count": 4,
   "id": "f6def631",
   "metadata": {},
   "outputs": [
    {
     "name": "stdout",
     "output_type": "stream",
     "text": [
      "<class 'numpy.ndarray'>\n",
      "()\n",
      "0\n"
     ]
    },
    {
     "data": {
      "text/plain": [
       "array(42)"
      ]
     },
     "execution_count": 4,
     "metadata": {},
     "output_type": "execute_result"
    }
   ],
   "source": [
    "arr = np.array(42)\n",
    "print(type(arr))\n",
    "print(arr.shape)\n",
    "# print(len(arr)) - this will give an error because the arr is 0-dimension!\n",
    "print(arr.ndim)\n",
    "arr"
   ]
  },
  {
   "cell_type": "code",
   "execution_count": 5,
   "id": "7514dfe5",
   "metadata": {},
   "outputs": [
    {
     "name": "stdout",
     "output_type": "stream",
     "text": [
      "<class 'numpy.ndarray'>\n",
      "(1,)\n",
      "1\n",
      "1\n"
     ]
    },
    {
     "data": {
      "text/plain": [
       "array([42])"
      ]
     },
     "execution_count": 5,
     "metadata": {},
     "output_type": "execute_result"
    }
   ],
   "source": [
    "arr = np.array([42])\n",
    "print(type(arr))\n",
    "print(arr.shape)\n",
    "print(len(arr)) # this is fine because it is an array with length 1 since list was entered\n",
    "print(arr.ndim)\n",
    "arr"
   ]
  },
  {
   "cell_type": "markdown",
   "id": "354ea628",
   "metadata": {},
   "source": []
  },
  {
   "cell_type": "markdown",
   "id": "9bd18fb1",
   "metadata": {},
   "source": [
    "Let's create the following matrix as a numpy array:\n",
    "\n",
    "$$\n",
    "    \\begin{pmatrix}\n",
    "        1 & 2 \\\\\n",
    "        3 & 4 \\\\\n",
    "        5 & 6 \\\\\n",
    "    \\end{pmatrix}\n",
    "$$"
   ]
  },
  {
   "cell_type": "code",
   "execution_count": 7,
   "id": "8684d556",
   "metadata": {},
   "outputs": [
    {
     "name": "stdout",
     "output_type": "stream",
     "text": [
      "<class 'numpy.ndarray'>\n",
      "(3, 2)\n",
      "3\n",
      "2\n",
      "3\n"
     ]
    },
    {
     "data": {
      "text/plain": [
       "array([[1, 2],\n",
       "       [3, 4],\n",
       "       [5, 6]])"
      ]
     },
     "execution_count": 7,
     "metadata": {},
     "output_type": "execute_result"
    }
   ],
   "source": [
    "arr = np.array([[1,2],[3, 4],[5, 6]]) # first array for columns, 2nd array for row (column vector of row vectors)\n",
    "print(type(arr))\n",
    "print(arr.shape)\n",
    "print(len(arr))\n",
    "print(arr.ndim)\n",
    "print(arr[1,0]) #0 based indexing \n",
    "arr"
   ]
  },
  {
   "cell_type": "markdown",
   "id": "c25e1c61",
   "metadata": {},
   "source": [
    "Now let's make a 3 dimensional numpy array (tensor)."
   ]
  },
  {
   "cell_type": "code",
   "execution_count": 8,
   "id": "12c3285c",
   "metadata": {},
   "outputs": [
    {
     "name": "stdout",
     "output_type": "stream",
     "text": [
      "<class 'numpy.ndarray'>\n",
      "(2, 2, 2)\n",
      "2\n",
      "3\n",
      "6\n",
      "8\n"
     ]
    },
    {
     "data": {
      "text/plain": [
       "array([[[1, 2],\n",
       "        [3, 4]],\n",
       "\n",
       "       [[5, 6],\n",
       "        [7, 8]]])"
      ]
     },
     "execution_count": 8,
     "metadata": {},
     "output_type": "execute_result"
    }
   ],
   "source": [
    "arr = np.array([[[1,2],[3, 4]],[[5,6],[7,8]]])\n",
    "print(type(arr))\n",
    "print(arr.shape)\n",
    "print(len(arr))\n",
    "print(arr.ndim)\n",
    "print(arr[1,0,1]) #0 based indexing \n",
    "print(arr.size) #number of scalar entries in an array\n",
    "arr"
   ]
  },
  {
   "cell_type": "code",
   "execution_count": 9,
   "id": "71d6e083",
   "metadata": {},
   "outputs": [
    {
     "name": "stdout",
     "output_type": "stream",
     "text": [
      "[[1 2]\n",
      " [3 4]]\n",
      "--\n",
      "[7 8]\n"
     ]
    }
   ],
   "source": [
    "# more on indexing\n",
    "\n",
    "print(arr[0]) #this takes the 1st matrix out of the 3-d array from before\n",
    "print(\"--\")\n",
    "print(arr[1,1]) #this takes the 2nd row of the 2nd matrix"
   ]
  },
  {
   "cell_type": "markdown",
   "id": "5ec0e2de",
   "metadata": {},
   "source": [
    "### Special vectors and matrices"
   ]
  },
  {
   "cell_type": "code",
   "execution_count": 10,
   "id": "8e822114",
   "metadata": {},
   "outputs": [
    {
     "name": "stdout",
     "output_type": "stream",
     "text": [
      "[[1 0 0]\n",
      " [0 2 0]\n",
      " [0 0 3]]\n"
     ]
    }
   ],
   "source": [
    "# diagonal matrix\n",
    "diag = np.diag([1,2,3])\n",
    "print(diag)"
   ]
  },
  {
   "cell_type": "code",
   "execution_count": 93,
   "id": "95bf2542",
   "metadata": {},
   "outputs": [
    {
     "name": "stdout",
     "output_type": "stream",
     "text": [
      "[[1. 0. 0.]\n",
      " [0. 1. 0.]\n",
      " [0. 0. 1.]]\n",
      "[[1. 0.]\n",
      " [0. 1.]]\n"
     ]
    }
   ],
   "source": [
    "# identity matrix\n",
    "id = np.identity(3)\n",
    "print(id)\n",
    "id2 = np.eye(2)\n",
    "print(id2)"
   ]
  },
  {
   "cell_type": "code",
   "execution_count": 94,
   "id": "847bf8be",
   "metadata": {},
   "outputs": [
    {
     "name": "stdout",
     "output_type": "stream",
     "text": [
      "[0 1 2 3]\n",
      "[2 4 6 8]\n",
      "[ 0.  5. 10. 15. 20.]\n"
     ]
    }
   ],
   "source": [
    "# incrementing\n",
    "print(np.arange(4))\n",
    "print(np.arange(2, 9, 2)) #from 2 to 9, skip by 2\n",
    "print(np.linspace(0, 20, num = 5)) #can do even splits between a range (in this case 0 to 20, give 5 evenly spaced values)"
   ]
  },
  {
   "cell_type": "code",
   "execution_count": 95,
   "id": "fdb05ca1",
   "metadata": {},
   "outputs": [
    {
     "name": "stdout",
     "output_type": "stream",
     "text": [
      "[[1 1 1]\n",
      " [1 1 1]]\n",
      "[[0. 0. 0.]\n",
      " [0. 0. 0.]]\n"
     ]
    }
   ],
   "source": [
    "print(np.ones((2,3), dtype=np.int64)) # array of ones\n",
    "print(np.zeros((2,3))) # array of 0s"
   ]
  },
  {
   "cell_type": "markdown",
   "id": "104f4f0e",
   "metadata": {},
   "source": [
    "### Operating within the array"
   ]
  },
  {
   "cell_type": "code",
   "execution_count": 18,
   "id": "1ed7b7ec",
   "metadata": {},
   "outputs": [
    {
     "data": {
      "text/plain": [
       "array([1, 2, 3, 4, 5, 6, 7, 8])"
      ]
     },
     "execution_count": 18,
     "metadata": {},
     "output_type": "execute_result"
    }
   ],
   "source": [
    "a = np.array([1, 2, 3, 4])\n",
    "b = np.array([5, 6, 7, 8])\n",
    "\n",
    "np.concat((a, b))"
   ]
  },
  {
   "cell_type": "code",
   "execution_count": 19,
   "id": "94b02a0e",
   "metadata": {},
   "outputs": [
    {
     "data": {
      "text/plain": [
       "array([[1, 2],\n",
       "       [3, 4],\n",
       "       [5, 6]])"
      ]
     },
     "execution_count": 19,
     "metadata": {},
     "output_type": "execute_result"
    }
   ],
   "source": [
    "x = np.array([[1, 2], [3, 4]])\n",
    "y = np.array([[5, 6]])\n",
    "\n",
    "np.concat((x,y))"
   ]
  },
  {
   "cell_type": "code",
   "execution_count": 100,
   "id": "4665d605",
   "metadata": {},
   "outputs": [
    {
     "name": "stdout",
     "output_type": "stream",
     "text": [
      "(6,)\n",
      "(1, 6)\n",
      "(6, 1)\n"
     ]
    }
   ],
   "source": [
    "# converting 1D arrays to 2\n",
    "\n",
    "a = np.array([1, 2, 3, 4, 5, 6])\n",
    "print(a.shape)\n",
    "row_vector = a[np.newaxis, :]\n",
    "print(row_vector.shape)\n",
    "column_vector = a[:, np.newaxis]\n",
    "print(column_vector.shape)\n"
   ]
  },
  {
   "cell_type": "code",
   "execution_count": 101,
   "id": "c321975b",
   "metadata": {},
   "outputs": [
    {
     "name": "stdout",
     "output_type": "stream",
     "text": [
      "[[1]\n",
      " [2]\n",
      " [3]\n",
      " [4]\n",
      " [5]\n",
      " [6]]\n",
      "(6, 1)\n",
      "[[1 2 3 4 5 6]]\n",
      "(1, 6)\n"
     ]
    }
   ],
   "source": [
    "#alternatives\n",
    "column_vector = np.expand_dims(a, axis=1)\n",
    "print(column_vector)\n",
    "print(column_vector.shape)\n",
    "row_vector = np.expand_dims(a, axis=0)\n",
    "print(row_vector)\n",
    "print(row_vector.shape)\n"
   ]
  },
  {
   "cell_type": "code",
   "execution_count": 103,
   "id": "99c4e792",
   "metadata": {},
   "outputs": [
    {
     "name": "stdout",
     "output_type": "stream",
     "text": [
      "[[1 1]\n",
      " [2 2]\n",
      " [3 3]\n",
      " [4 4]]\n",
      "---\n",
      "[[1 1 3 3]\n",
      " [2 2 4 4]]\n"
     ]
    }
   ],
   "source": [
    "# combining/concatenating matrices together\n",
    "\n",
    "a1 = np.array([[1, 1],\n",
    "               [2, 2]])\n",
    "a2 = np.array([[3, 3],\n",
    "               [4, 4]])\n",
    "\n",
    "print(np.vstack((a1,a2)))\n",
    "print(\"---\")\n",
    "print(np.hstack((a1,a2)))"
   ]
  },
  {
   "cell_type": "code",
   "execution_count": 91,
   "id": "d20f694e",
   "metadata": {},
   "outputs": [
    {
     "name": "stdout",
     "output_type": "stream",
     "text": [
      "[[1 1 3]\n",
      " [2 2 4]]\n",
      "[3 4]\n"
     ]
    }
   ],
   "source": [
    "# split a column vector out\n",
    "A = np.hstack((a1,a2))\n",
    "\n",
    "y = A[:,-1]\n",
    "X = A[:,:-1]\n",
    "\n",
    "print(X)\n",
    "print(y)"
   ]
  },
  {
   "cell_type": "markdown",
   "id": "733caee5",
   "metadata": {},
   "source": [
    "# Linear algebra operations"
   ]
  },
  {
   "cell_type": "markdown",
   "id": "04473f09",
   "metadata": {},
   "source": [
    "## Addition"
   ]
  },
  {
   "cell_type": "code",
   "execution_count": 25,
   "id": "71d1540d",
   "metadata": {},
   "outputs": [
    {
     "name": "stdout",
     "output_type": "stream",
     "text": [
      "[0 1 2]\n",
      "[1. 1. 1.]\n"
     ]
    },
    {
     "data": {
      "text/plain": [
       "array([1., 2., 3.])"
      ]
     },
     "execution_count": 25,
     "metadata": {},
     "output_type": "execute_result"
    }
   ],
   "source": [
    "# vectors (1-d array)\n",
    "\n",
    "a = np.arange(3)\n",
    "b = np.ones(3)\n",
    "\n",
    "print(a)\n",
    "print(b)\n",
    "a + b"
   ]
  },
  {
   "cell_type": "code",
   "execution_count": 27,
   "id": "e57bd7d5",
   "metadata": {},
   "outputs": [
    {
     "name": "stdout",
     "output_type": "stream",
     "text": [
      "[[0 1 2]\n",
      " [3 4 5]]\n",
      "[[1. 1. 1.]\n",
      " [1. 1. 1.]]\n"
     ]
    },
    {
     "data": {
      "text/plain": [
       "array([[1., 2., 3.],\n",
       "       [4., 5., 6.]])"
      ]
     },
     "execution_count": 27,
     "metadata": {},
     "output_type": "execute_result"
    }
   ],
   "source": [
    "# matrices (2-d array)\n",
    "\n",
    "a = np.arange(6).reshape(2,3)\n",
    "b = np.ones(6).reshape(2,3)\n",
    "print(a)\n",
    "print(b)\n",
    "a + b"
   ]
  },
  {
   "cell_type": "code",
   "execution_count": 29,
   "id": "f26b0bea",
   "metadata": {},
   "outputs": [
    {
     "name": "stdout",
     "output_type": "stream",
     "text": [
      "[[[ 0  1  2]\n",
      "  [ 3  4  5]\n",
      "  [ 6  7  8]]\n",
      "\n",
      " [[ 9 10 11]\n",
      "  [12 13 14]\n",
      "  [15 16 17]]]\n",
      "[[[1. 1. 1.]\n",
      "  [1. 1. 1.]\n",
      "  [1. 1. 1.]]\n",
      "\n",
      " [[1. 1. 1.]\n",
      "  [1. 1. 1.]\n",
      "  [1. 1. 1.]]]\n"
     ]
    },
    {
     "data": {
      "text/plain": [
       "array([[[ 1.,  2.,  3.],\n",
       "        [ 4.,  5.,  6.],\n",
       "        [ 7.,  8.,  9.]],\n",
       "\n",
       "       [[10., 11., 12.],\n",
       "        [13., 14., 15.],\n",
       "        [16., 17., 18.]]])"
      ]
     },
     "execution_count": 29,
     "metadata": {},
     "output_type": "execute_result"
    }
   ],
   "source": [
    "# tensors (3d+ array)\n",
    "\n",
    "a = np.arange(18).reshape(2,3,3)\n",
    "b = np.ones(18).reshape(2,3,3)\n",
    "print(a)\n",
    "print(b)\n",
    "a + b\n"
   ]
  },
  {
   "cell_type": "code",
   "execution_count": 30,
   "id": "448fafc7",
   "metadata": {},
   "outputs": [
    {
     "name": "stdout",
     "output_type": "stream",
     "text": [
      "ERROR: operands could not be broadcast together with shapes (3,2) (2,3) \n"
     ]
    }
   ],
   "source": [
    "# when dimensions don't match\n",
    "a = np.arange(6).reshape(3,2)\n",
    "b = np.ones(6).reshape(2,3)\n",
    "try:\n",
    "    a + b\n",
    "except Exception as e:\n",
    "    print(f\"ERROR: {e}\")"
   ]
  },
  {
   "cell_type": "markdown",
   "id": "d61ee82a",
   "metadata": {},
   "source": [
    "### Summing over axis of rows or columns"
   ]
  },
  {
   "cell_type": "code",
   "execution_count": 31,
   "id": "f4e7d22e",
   "metadata": {},
   "outputs": [
    {
     "name": "stdout",
     "output_type": "stream",
     "text": [
      "[[ 0  1  2  3  4]\n",
      " [ 5  6  7  8  9]\n",
      " [10 11 12 13 14]]\n"
     ]
    },
    {
     "data": {
      "text/plain": [
       "array([15, 18, 21, 24, 27])"
      ]
     },
     "execution_count": 31,
     "metadata": {},
     "output_type": "execute_result"
    }
   ],
   "source": [
    "a = np.arange(15).reshape(3,5)\n",
    "print(a)\n",
    "a.sum(axis = 0) # sum over columns (returns a vector)"
   ]
  },
  {
   "cell_type": "code",
   "execution_count": 32,
   "id": "f6e3433c",
   "metadata": {},
   "outputs": [
    {
     "data": {
      "text/plain": [
       "array([10, 35, 60])"
      ]
     },
     "execution_count": 32,
     "metadata": {},
     "output_type": "execute_result"
    }
   ],
   "source": [
    "a.sum(axis = 1) # sum access over rows (returns a vector)"
   ]
  },
  {
   "cell_type": "markdown",
   "id": "ad7f2639",
   "metadata": {},
   "source": [
    "## Multiplication"
   ]
  },
  {
   "cell_type": "code",
   "execution_count": 44,
   "id": "858d742f",
   "metadata": {},
   "outputs": [
    {
     "name": "stdout",
     "output_type": "stream",
     "text": [
      "[[0 1]\n",
      " [4 9]]\n",
      "[[ 0  1]\n",
      " [ 8 27]]\n"
     ]
    }
   ],
   "source": [
    "# element wise multiplication (Hadamard product)\n",
    "\n",
    "A = np.arange(4).reshape(2,2)\n",
    "B = np.arange(4).reshape(2,2)\n",
    "\n",
    "print(A * B)\n",
    "print(A ** 3)"
   ]
  },
  {
   "cell_type": "code",
   "execution_count": 47,
   "id": "e767360d",
   "metadata": {},
   "outputs": [
    {
     "name": "stdout",
     "output_type": "stream",
     "text": [
      "[[0 1 2]\n",
      " [3 4 5]]\n",
      "[[0 1]\n",
      " [2 3]\n",
      " [4 5]]\n"
     ]
    },
    {
     "data": {
      "text/plain": [
       "array([[10, 13],\n",
       "       [28, 40]])"
      ]
     },
     "execution_count": 47,
     "metadata": {},
     "output_type": "execute_result"
    }
   ],
   "source": [
    "# matrix product\n",
    "\n",
    "A = np.arange(6).reshape(2,3)\n",
    "B = np.arange(6).reshape(3,2)\n",
    "print(A)\n",
    "print(B)\n",
    "A @ B"
   ]
  },
  {
   "cell_type": "code",
   "execution_count": 36,
   "id": "153f40ad",
   "metadata": {},
   "outputs": [
    {
     "name": "stdout",
     "output_type": "stream",
     "text": [
      "44\n"
     ]
    },
    {
     "data": {
      "text/plain": [
       "np.int64(44)"
      ]
     },
     "execution_count": 36,
     "metadata": {},
     "output_type": "execute_result"
    }
   ],
   "source": [
    "# dot product\n",
    "v = np.arange(4)\n",
    "w = np.array([5,6,7,8])\n",
    "\n",
    "print(np.dot(v, w))\n",
    "v.dot(w)"
   ]
  },
  {
   "cell_type": "code",
   "execution_count": 37,
   "id": "0523ebe9",
   "metadata": {},
   "outputs": [
    {
     "data": {
      "text/plain": [
       "array([-6, 12, -6])"
      ]
     },
     "execution_count": 37,
     "metadata": {},
     "output_type": "execute_result"
    }
   ],
   "source": [
    "# cross product\n",
    "v = np.arange(3)\n",
    "w = np.array([6,7,8])\n",
    "\n",
    "np.cross(v, w)"
   ]
  },
  {
   "cell_type": "markdown",
   "id": "fd06e9f0",
   "metadata": {},
   "source": [
    "## Other manipulations"
   ]
  },
  {
   "cell_type": "code",
   "execution_count": 38,
   "id": "6a824dd8",
   "metadata": {},
   "outputs": [
    {
     "name": "stdout",
     "output_type": "stream",
     "text": [
      "[[0 1 2]\n",
      " [3 4 5]]\n",
      "[[0 3]\n",
      " [1 4]\n",
      " [2 5]]\n"
     ]
    }
   ],
   "source": [
    "# transpose\n",
    "a = np.arange(6).reshape(2,3)\n",
    "print(a)\n",
    "print(a.T)"
   ]
  },
  {
   "cell_type": "code",
   "execution_count": 39,
   "id": "d760b9d3",
   "metadata": {},
   "outputs": [
    {
     "name": "stdout",
     "output_type": "stream",
     "text": [
      "[[1. 2.]\n",
      " [3. 4.]]\n"
     ]
    },
    {
     "data": {
      "text/plain": [
       "array([[-2. ,  1. ],\n",
       "       [ 1.5, -0.5]])"
      ]
     },
     "execution_count": 39,
     "metadata": {},
     "output_type": "execute_result"
    }
   ],
   "source": [
    "# inverse\n",
    "a = np.linspace(1, 4, num = 4).reshape(2,2)\n",
    "print(a)\n",
    "np.linalg.inv(a)"
   ]
  },
  {
   "cell_type": "code",
   "execution_count": 40,
   "id": "a113caa9",
   "metadata": {},
   "outputs": [
    {
     "data": {
      "text/plain": [
       "array([[-0.94444444,  0.44444444],\n",
       "       [-0.11111111,  0.11111111],\n",
       "       [ 0.72222222, -0.22222222]])"
      ]
     },
     "execution_count": 40,
     "metadata": {},
     "output_type": "execute_result"
    }
   ],
   "source": [
    "# pseudo-inverse\n",
    "b = np.linspace(1, 6, num = 6).reshape(2,3)\n",
    "np.linalg.pinv(b)"
   ]
  },
  {
   "cell_type": "code",
   "execution_count": 41,
   "id": "93fd32aa",
   "metadata": {},
   "outputs": [
    {
     "data": {
      "text/plain": [
       "np.float64(-2.0000000000000004)"
      ]
     },
     "execution_count": 41,
     "metadata": {},
     "output_type": "execute_result"
    }
   ],
   "source": [
    "# determinant\n",
    "np.linalg.det(a)"
   ]
  },
  {
   "cell_type": "code",
   "execution_count": 42,
   "id": "26c832e7",
   "metadata": {},
   "outputs": [
    {
     "name": "stdout",
     "output_type": "stream",
     "text": [
      "[-0.37228132  5.37228132]\n",
      "EigResult(eigenvalues=array([-0.37228132,  5.37228132]), eigenvectors=array([[-0.82456484, -0.41597356],\n",
      "       [ 0.56576746, -0.90937671]]))\n",
      "EigResult(eigenvalues=array([1., 2., 3.]), eigenvectors=array([[1., 0., 0.],\n",
      "       [0., 1., 0.],\n",
      "       [0., 0., 1.]]))\n"
     ]
    }
   ],
   "source": [
    "# eigenvalues\n",
    "print(np.linalg.eigvals(a))\n",
    "# eigenvalues and eigenvectors\n",
    "print(np.linalg.eig(a))\n",
    "print(np.linalg.eig(np.diag([1,2,3])))"
   ]
  },
  {
   "cell_type": "code",
   "execution_count": 43,
   "id": "4fc79b28",
   "metadata": {},
   "outputs": [
    {
     "data": {
      "text/plain": [
       "np.int64(2)"
      ]
     },
     "execution_count": 43,
     "metadata": {},
     "output_type": "execute_result"
    }
   ],
   "source": [
    "# matrix rank\n",
    "np.linalg.matrix_rank(a)"
   ]
  },
  {
   "cell_type": "code",
   "execution_count": 77,
   "id": "564123ff",
   "metadata": {},
   "outputs": [
    {
     "data": {
      "text/plain": [
       "array([ 1.,  2.,  4.,  5.,  7., 19.])"
      ]
     },
     "execution_count": 77,
     "metadata": {},
     "output_type": "execute_result"
    }
   ],
   "source": [
    "# filtering out blanks\n",
    "\n",
    "y = np.array([1,2,np.nan,4, np.nan, 5,7,19])\n",
    "y[~np.isnan(y)]"
   ]
  },
  {
   "cell_type": "code",
   "execution_count": 92,
   "id": "a64ca719",
   "metadata": {},
   "outputs": [
    {
     "name": "stdout",
     "output_type": "stream",
     "text": [
      "[[ 1.  2.]\n",
      " [nan  4.]\n",
      " [nan  5.]\n",
      " [ 7. 19.]]\n"
     ]
    },
    {
     "data": {
      "text/plain": [
       "array([[ 1.,  2.],\n",
       "       [ 7., 19.]])"
      ]
     },
     "execution_count": 92,
     "metadata": {},
     "output_type": "execute_result"
    }
   ],
   "source": [
    "# filter out rows with at least 1 blank\n",
    "X = np.array([1,2,np.nan,4, np.nan, 5,7,19]).reshape(4,2)\n",
    "print(X)\n",
    "X[~np.isnan(X).any(axis = 1)]"
   ]
  },
  {
   "cell_type": "code",
   "execution_count": 86,
   "id": "fbfb7570",
   "metadata": {},
   "outputs": [
    {
     "name": "stdout",
     "output_type": "stream",
     "text": [
      "[[ 1.  2.]\n",
      " [nan  4.]\n",
      " [nan  5.]\n",
      " [ 7. 19.]]\n"
     ]
    },
    {
     "data": {
      "text/plain": [
       "array([[ 2.],\n",
       "       [ 4.],\n",
       "       [ 5.],\n",
       "       [19.]])"
      ]
     },
     "execution_count": 86,
     "metadata": {},
     "output_type": "execute_result"
    }
   ],
   "source": [
    "# filter out columns with at least 1 blank\n",
    "X = np.array([1,2,np.nan,4, np.nan, 5,7,19]).reshape(4,2)\n",
    "print(X)\n",
    "X.T[~np.isnan(X.T).any(axis = 1)].T"
   ]
  },
  {
   "cell_type": "code",
   "execution_count": null,
   "id": "c914fb49",
   "metadata": {},
   "outputs": [],
   "source": []
  }
 ],
 "metadata": {
  "kernelspec": {
   "display_name": "rec-sys",
   "language": "python",
   "name": "python3"
  },
  "language_info": {
   "codemirror_mode": {
    "name": "ipython",
    "version": 3
   },
   "file_extension": ".py",
   "mimetype": "text/x-python",
   "name": "python",
   "nbconvert_exporter": "python",
   "pygments_lexer": "ipython3",
   "version": "3.10.14"
  }
 },
 "nbformat": 4,
 "nbformat_minor": 5
}
