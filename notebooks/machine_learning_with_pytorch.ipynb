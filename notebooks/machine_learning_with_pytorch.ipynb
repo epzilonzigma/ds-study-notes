{
 "cells": [
  {
   "cell_type": "markdown",
   "metadata": {},
   "source": [
    "# Machine Learning with PyTorch\n",
    "\n",
    "This notebook is used to understand how to implement SGD with PyTorch before experimenting with other algorithms."
   ]
  },
  {
   "cell_type": "code",
   "execution_count": 1,
   "metadata": {},
   "outputs": [
    {
     "name": "stdout",
     "output_type": "stream",
     "text": [
      "tensor([[0.0183, 0.3757, 0.4814],\n",
      "        [0.2640, 0.9630, 0.2107],\n",
      "        [0.9665, 0.5072, 0.9164],\n",
      "        [0.7896, 0.6893, 0.1884],\n",
      "        [0.8430, 0.5182, 0.0058]])\n"
     ]
    }
   ],
   "source": [
    "# test if pytorch is working\n",
    "import torch\n",
    "x = torch.rand(5, 3)\n",
    "print(x)"
   ]
  },
  {
   "cell_type": "code",
   "execution_count": null,
   "metadata": {},
   "outputs": [],
   "source": []
  }
 ],
 "metadata": {
  "kernelspec": {
   "display_name": "rec-sys",
   "language": "python",
   "name": "python3"
  },
  "language_info": {
   "codemirror_mode": {
    "name": "ipython",
    "version": 3
   },
   "file_extension": ".py",
   "mimetype": "text/x-python",
   "name": "python",
   "nbconvert_exporter": "python",
   "pygments_lexer": "ipython3",
   "version": "3.10.14"
  }
 },
 "nbformat": 4,
 "nbformat_minor": 2
}
