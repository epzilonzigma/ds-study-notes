{
 "cells": [
  {
   "cell_type": "markdown",
   "metadata": {},
   "source": [
    "# Alternating Least Square Implementation"
   ]
  },
  {
   "cell_type": "markdown",
   "metadata": {},
   "source": [
    "Matrix factorization by alternating least squares."
   ]
  },
  {
   "cell_type": "code",
   "execution_count": 1,
   "metadata": {},
   "outputs": [],
   "source": [
    "import numpy as np\n",
    "import pandas as pd"
   ]
  },
  {
   "cell_type": "markdown",
   "metadata": {},
   "source": [
    "## Intuition\n",
    "\n",
    "First build some intuition by manually executing the 2 iterations"
   ]
  },
  {
   "cell_type": "code",
   "execution_count": 2,
   "metadata": {},
   "outputs": [
    {
     "data": {
      "text/html": [
       "<div>\n",
       "<style scoped>\n",
       "    .dataframe tbody tr th:only-of-type {\n",
       "        vertical-align: middle;\n",
       "    }\n",
       "\n",
       "    .dataframe tbody tr th {\n",
       "        vertical-align: top;\n",
       "    }\n",
       "\n",
       "    .dataframe thead th {\n",
       "        text-align: right;\n",
       "    }\n",
       "</style>\n",
       "<table border=\"1\" class=\"dataframe\">\n",
       "  <thead>\n",
       "    <tr style=\"text-align: right;\">\n",
       "      <th></th>\n",
       "      <th>User</th>\n",
       "      <th>Movie</th>\n",
       "      <th>Rating</th>\n",
       "    </tr>\n",
       "  </thead>\n",
       "  <tbody>\n",
       "    <tr>\n",
       "      <th>0</th>\n",
       "      <td>Lisa Rose</td>\n",
       "      <td>Lady in the Water</td>\n",
       "      <td>2.5</td>\n",
       "    </tr>\n",
       "    <tr>\n",
       "      <th>1</th>\n",
       "      <td>Lisa Rose</td>\n",
       "      <td>Snakes on a Plane</td>\n",
       "      <td>3.5</td>\n",
       "    </tr>\n",
       "    <tr>\n",
       "      <th>2</th>\n",
       "      <td>Lisa Rose</td>\n",
       "      <td>Just My Luck</td>\n",
       "      <td>3.0</td>\n",
       "    </tr>\n",
       "    <tr>\n",
       "      <th>3</th>\n",
       "      <td>Lisa Rose</td>\n",
       "      <td>Superman Returns</td>\n",
       "      <td>3.5</td>\n",
       "    </tr>\n",
       "    <tr>\n",
       "      <th>4</th>\n",
       "      <td>Lisa Rose</td>\n",
       "      <td>You, Me and Dupree</td>\n",
       "      <td>2.5</td>\n",
       "    </tr>\n",
       "  </tbody>\n",
       "</table>\n",
       "</div>"
      ],
      "text/plain": [
       "        User               Movie  Rating\n",
       "0  Lisa Rose   Lady in the Water     2.5\n",
       "1  Lisa Rose   Snakes on a Plane     3.5\n",
       "2  Lisa Rose        Just My Luck     3.0\n",
       "3  Lisa Rose    Superman Returns     3.5\n",
       "4  Lisa Rose  You, Me and Dupree     2.5"
      ]
     },
     "execution_count": 2,
     "metadata": {},
     "output_type": "execute_result"
    }
   ],
   "source": [
    "df = pd.read_csv(\"../../data/critics/critics.csv\")\n",
    "df.head()"
   ]
  },
  {
   "cell_type": "code",
   "execution_count": 3,
   "metadata": {},
   "outputs": [
    {
     "data": {
      "text/plain": [
       "array([[3. , nan, 3.5, 4. , 4.5, 2.5],\n",
       "       [1.5, 3. , 3.5, 5. , 3. , 3.5],\n",
       "       [nan, 3. , 4. , 5. , 3. , 3.5],\n",
       "       [3. , 2.5, 3.5, 3.5, 3. , 2.5],\n",
       "       [nan, 2.5, 3. , 3.5, 4. , nan],\n",
       "       [2. , 3. , 4. , 3. , 3. , 2. ],\n",
       "       [nan, nan, 4.5, 4. , nan, 1. ]])"
      ]
     },
     "execution_count": 3,
     "metadata": {},
     "output_type": "execute_result"
    }
   ],
   "source": [
    "user_product_matrix = df.pivot(index=\"User\", columns=\"Movie\", values=\"Rating\").to_numpy()\n",
    "user_product_matrix"
   ]
  },
  {
   "cell_type": "markdown",
   "metadata": {},
   "source": [
    "We will try to factorize the matrix above with 3 latent factors."
   ]
  },
  {
   "cell_type": "markdown",
   "metadata": {},
   "source": [
    "### 1. Initialize User Matrix"
   ]
  },
  {
   "cell_type": "code",
   "execution_count": 4,
   "metadata": {},
   "outputs": [
    {
     "data": {
      "text/plain": [
       "array([[-0.10569108,  0.26511439,  1.01972518],\n",
       "       [-0.43132784,  0.170877  , -0.01249452],\n",
       "       [-1.16326879, -0.36218318,  0.41093088],\n",
       "       [ 0.98078275,  0.41347612, -0.1854887 ],\n",
       "       [ 1.18520702, -0.0931943 , -0.29204066],\n",
       "       [-0.19458915, -0.13155516,  0.05557952],\n",
       "       [-0.17723909,  0.00712118,  0.50824957]])"
      ]
     },
     "execution_count": 4,
     "metadata": {},
     "output_type": "execute_result"
    }
   ],
   "source": [
    "# initialize user matrix\n",
    "\n",
    "u_init = np.random.normal(0, 1/np.sqrt(3), size = (user_product_matrix.shape[0], 3))\n",
    "u_init"
   ]
  },
  {
   "cell_type": "code",
   "execution_count": 5,
   "metadata": {},
   "outputs": [],
   "source": [
    "def calculate_ols_coefficients(X, y, l=0):\n",
    "    X_2 = X.T @ X\n",
    "    X_y = X.T @ y\n",
    "    l_i = l * np.eye(X_2.shape[0])\n",
    "\n",
    "    coeff = np.linalg.inv(X_2 + l_i) @ X_y\n",
    "    return coeff"
   ]
  },
  {
   "cell_type": "markdown",
   "metadata": {},
   "source": [
    "### 2. Calculate product matrix v with initialized user matrix"
   ]
  },
  {
   "cell_type": "code",
   "execution_count": 6,
   "metadata": {},
   "outputs": [
    {
     "data": {
      "text/plain": [
       "array([[ 0.65214355,  3.83931915,  1.76679219],\n",
       "       [ 0.37012593, -0.36728096,  1.19014298],\n",
       "       [ 1.12620662, -0.5016774 ,  4.46657946],\n",
       "       [ 0.78780352,  0.11323872,  4.46442869],\n",
       "       [ 1.73753525, -0.55284419,  4.33457816],\n",
       "       [-2.56928179,  5.11698067,  1.04827525]])"
      ]
     },
     "execution_count": 6,
     "metadata": {},
     "output_type": "execute_result"
    }
   ],
   "source": [
    "v = []\n",
    "\n",
    "for j in range(user_product_matrix.shape[1]):\n",
    "    dataset = np.hstack((u_init, np.expand_dims(user_product_matrix[:, j], axis = 1)))\n",
    "    dataset = dataset[~np.isnan(dataset).any(axis = 1)]\n",
    "    X = dataset[:, :-1]\n",
    "    y = dataset[:, -1]\n",
    "    coefficients = calculate_ols_coefficients(X, y, 0.1)\n",
    "    v.append(coefficients)\n",
    "\n",
    "v = np.array(v)\n",
    "v\n"
   ]
  },
  {
   "cell_type": "markdown",
   "metadata": {},
   "source": [
    "### 3. (2nd iteration) calculate user matrix u with estimated v matrix in previous iteration"
   ]
  },
  {
   "cell_type": "code",
   "execution_count": 7,
   "metadata": {},
   "outputs": [
    {
     "data": {
      "text/plain": [
       "array([[ 0.19734865,  0.38243139,  0.87287739],\n",
       "       [-0.93824551, -0.01362129,  1.16454913],\n",
       "       [-1.80760603, -0.5191842 ,  1.40060496],\n",
       "       [ 0.07553298,  0.36583266,  0.79579734],\n",
       "       [ 0.32543897, -0.84980311,  0.66593658],\n",
       "       [-0.15727174,  0.12233823,  0.85227528],\n",
       "       [ 0.14820697,  0.07482668,  0.92176594]])"
      ]
     },
     "execution_count": 7,
     "metadata": {},
     "output_type": "execute_result"
    }
   ],
   "source": [
    "user_product_matrix_T = user_product_matrix.T\n",
    "u = []\n",
    "\n",
    "for j in range(0, user_product_matrix_T.shape[1]):\n",
    "    dataset = np.hstack((v, np.expand_dims(user_product_matrix_T[:, j], axis = 1)))\n",
    "    dataset = dataset[~np.isnan(dataset).any(axis = 1)]\n",
    "    X = dataset[:, :-1]\n",
    "    y = dataset[:, -1]\n",
    "    coefficients = calculate_ols_coefficients(X, y, 0.1)\n",
    "    u.append(coefficients)\n",
    "\n",
    "u = np.array(u)\n",
    "u"
   ]
  },
  {
   "cell_type": "markdown",
   "metadata": {},
   "source": [
    "### 3. (2nd iteration) calculate product matrix v with estimated u matrix in 1st half of iteration"
   ]
  },
  {
   "cell_type": "code",
   "execution_count": 8,
   "metadata": {},
   "outputs": [
    {
     "data": {
      "text/plain": [
       "array([[ 1.24472715,  1.64304445,  2.38221125],\n",
       "       [ 0.76170567, -0.0594712 ,  3.16112088],\n",
       "       [ 1.02956796,  0.07185341,  4.15316102],\n",
       "       [ 0.53323297, -0.27821804,  4.2775864 ],\n",
       "       [ 1.76746075, -0.54301727,  4.1393926 ],\n",
       "       [-1.26353228,  2.31083705,  1.77895833]])"
      ]
     },
     "execution_count": 8,
     "metadata": {},
     "output_type": "execute_result"
    }
   ],
   "source": [
    "v = []\n",
    "\n",
    "for j in range(0, user_product_matrix.shape[1]):\n",
    "    dataset = np.hstack((u, np.expand_dims(user_product_matrix[:, j], axis = 1)))\n",
    "    dataset = dataset[~np.isnan(dataset).any(axis = 1)]\n",
    "    X = dataset[:, :-1]\n",
    "    y = dataset[:, -1]\n",
    "    coefficients = calculate_ols_coefficients(X, y, 0.1)\n",
    "    v.append(coefficients)\n",
    "\n",
    "v = np.array(v)\n",
    "v\n"
   ]
  },
  {
   "cell_type": "markdown",
   "metadata": {},
   "source": [
    "Alternating least squares algorithm repeats this until the values of U and V matrices converge.\n",
    "\n",
    "As you see below, u and v_T are then multiplied to reconstruct the user product rating matrix."
   ]
  },
  {
   "cell_type": "code",
   "execution_count": 9,
   "metadata": {},
   "outputs": [
    {
     "name": "stdout",
     "output_type": "stream",
     "text": [
      "[[ 2.95337533  2.88684887  3.85586319  3.73264194  3.75432135  2.18719274]\n",
      " [ 1.583962    2.96742373  3.86959381  4.48494578  3.16961054  3.2257113 ]\n",
      " [ 0.23351787  3.08149432  3.9185795   5.17177999  2.88470707  3.57583634]\n",
      " [ 2.59085465  2.55138898  3.40912715  3.3425873   3.22896574  2.16563161]\n",
      " [ 0.59522005  2.40353355  3.03974213  3.2585666   3.79323133 -1.19028573]\n",
      " [ 2.03554651  2.5670748   3.38650493  3.52778196  3.18349857  1.99758386]\n",
      " [ 2.50326199  3.02225361  3.98620806  4.00114414  4.03686892  1.62543117]]\n"
     ]
    },
    {
     "data": {
      "text/plain": [
       "(7, 6)"
      ]
     },
     "execution_count": 9,
     "metadata": {},
     "output_type": "execute_result"
    }
   ],
   "source": [
    "pred = u @ v.T\n",
    "print(pred)\n",
    "(pred).shape"
   ]
  },
  {
   "cell_type": "code",
   "execution_count": 10,
   "metadata": {},
   "outputs": [
    {
     "name": "stdout",
     "output_type": "stream",
     "text": [
      "[[3.  nan 3.5 4.  4.5 2.5]\n",
      " [1.5 3.  3.5 5.  3.  3.5]\n",
      " [nan 3.  4.  5.  3.  3.5]\n",
      " [3.  2.5 3.5 3.5 3.  2.5]\n",
      " [nan 2.5 3.  3.5 4.  nan]\n",
      " [2.  3.  4.  3.  3.  2. ]\n",
      " [nan nan 4.5 4.  nan 1. ]]\n",
      "(7, 6)\n"
     ]
    }
   ],
   "source": [
    "print(user_product_matrix)\n",
    "print(user_product_matrix.shape)"
   ]
  },
  {
   "cell_type": "markdown",
   "metadata": {},
   "source": [
    "With this intuition, the algorithm is replicated ideally until there is a convergence of a training error. Many loss functions can be used for the training. However, for starters and small use cases, using RMSE (calculated where corresponding entry exist in both predicted and actual matrices) is suffice."
   ]
  },
  {
   "cell_type": "code",
   "execution_count": 11,
   "metadata": {},
   "outputs": [
    {
     "data": {
      "text/plain": [
       "0.3135816219517954"
      ]
     },
     "execution_count": 11,
     "metadata": {},
     "output_type": "execute_result"
    }
   ],
   "source": [
    "# RMSE\n",
    "float(np.sqrt(np.nanmean((user_product_matrix - pred) ** 2)))"
   ]
  },
  {
   "cell_type": "markdown",
   "metadata": {},
   "source": [
    "# Alternating least square algorithm"
   ]
  },
  {
   "cell_type": "markdown",
   "metadata": {},
   "source": [
    "Now let's look at how different hyper paramters affect the model."
   ]
  },
  {
   "cell_type": "code",
   "execution_count": 12,
   "metadata": {},
   "outputs": [],
   "source": [
    "import sys\n",
    "sys.path.append(\"../../src\")\n",
    "\n",
    "from recommendation.matrix_factorization.alternating_least_sqaures import ALS"
   ]
  },
  {
   "cell_type": "code",
   "execution_count": 13,
   "metadata": {},
   "outputs": [],
   "source": [
    "ratings = pd.read_csv(\"../../data/movie_lens/rating.csv\", nrows=900000)"
   ]
  },
  {
   "cell_type": "code",
   "execution_count": 14,
   "metadata": {},
   "outputs": [
    {
     "name": "stderr",
     "output_type": "stream",
     "text": [
      "INFO: Initializing user matrix\n",
      "INFO: Start training\n",
      "INFO: iteration 1: RMSE = 0.790997499680047\n",
      "INFO: iteration 2: RMSE = 0.7422422887303891\n",
      "INFO: iteration 3: RMSE = 0.719909898112242\n",
      "INFO: iteration 4: RMSE = 0.7074798789692569\n",
      "INFO: iteration 5: RMSE = 0.6989430885944551\n",
      "INFO: iteration 6: RMSE = 0.6928308925583904\n",
      "INFO: iteration 7: RMSE = 0.6884609707713909\n",
      "INFO: iteration 8: RMSE = 0.6852563375897927\n",
      "INFO: iteration 9: RMSE = 0.6828253345739962\n",
      "INFO: iteration 10: RMSE = 0.6809365582799234\n",
      "INFO: iteration 11: RMSE = 0.6794312787346508\n",
      "INFO: iteration 12: RMSE = 0.6781980842452875\n",
      "INFO: iteration 13: RMSE = 0.6771630885233478\n",
      "INFO: iteration 14: RMSE = 0.6762762802994557\n",
      "INFO: iteration 15: RMSE = 0.6755066985302216\n",
      "INFO: iteration 16: RMSE = 0.6748347667264992\n",
      "INFO: iteration 17: RMSE = 0.6742436314303372\n",
      "INFO: iteration 18: RMSE = 0.6737193981552095\n",
      "INFO: iteration 19: RMSE = 0.6732572901918471\n",
      "INFO: iteration 20: RMSE = 0.6728450990046317\n"
     ]
    },
    {
     "name": "stdout",
     "output_type": "stream",
     "text": [
      "CPU times: user 1min 30s, sys: 2.77 s, total: 1min 32s\n",
      "Wall time: 1min 24s\n"
     ]
    }
   ],
   "source": [
    "%%time\n",
    "\n",
    "als = ALS(\n",
    "    n_features = 10,\n",
    "    user_column_header = \"userId\",\n",
    "    item_column_header = \"movieId\",\n",
    "    rating_column_header = \"rating\",\n",
    "    max_iter = 20\n",
    ")\n",
    "\n",
    "als.fit(rating_matrix = ratings)"
   ]
  },
  {
   "cell_type": "code",
   "execution_count": 15,
   "metadata": {},
   "outputs": [
    {
     "data": {
      "text/plain": [
       "(6034, 10)"
      ]
     },
     "execution_count": 15,
     "metadata": {},
     "output_type": "execute_result"
    }
   ],
   "source": [
    "als.U.shape"
   ]
  },
  {
   "cell_type": "code",
   "execution_count": 16,
   "metadata": {},
   "outputs": [
    {
     "data": {
      "text/plain": [
       "(13771, 10)"
      ]
     },
     "execution_count": 16,
     "metadata": {},
     "output_type": "execute_result"
    }
   ],
   "source": [
    "als.V.shape"
   ]
  },
  {
   "cell_type": "code",
   "execution_count": 17,
   "metadata": {},
   "outputs": [
    {
     "data": {
      "text/plain": [
       "4.569839528655263"
      ]
     },
     "execution_count": 17,
     "metadata": {},
     "output_type": "execute_result"
    }
   ],
   "source": [
    "als.predict_rating(10, 145)"
   ]
  },
  {
   "cell_type": "code",
   "execution_count": 18,
   "metadata": {},
   "outputs": [
    {
     "data": {
      "text/plain": [
       "np.float64(5.0)"
      ]
     },
     "execution_count": 18,
     "metadata": {},
     "output_type": "execute_result"
    }
   ],
   "source": [
    "als.R[10, 145]"
   ]
  },
  {
   "cell_type": "markdown",
   "metadata": {},
   "source": [
    "Lets try increasing the count of latent factor."
   ]
  },
  {
   "cell_type": "code",
   "execution_count": 19,
   "metadata": {},
   "outputs": [
    {
     "name": "stderr",
     "output_type": "stream",
     "text": [
      "INFO: Initializing user matrix\n",
      "INFO: Start training\n",
      "INFO: iteration 1: RMSE = 0.465650849278539\n",
      "INFO: iteration 2: RMSE = 0.36899803198335623\n",
      "INFO: iteration 3: RMSE = 0.33012263743126735\n",
      "INFO: iteration 4: RMSE = 0.3070242618272094\n",
      "INFO: iteration 5: RMSE = 0.2911704127128393\n",
      "INFO: iteration 6: RMSE = 0.2794368471798106\n",
      "INFO: iteration 7: RMSE = 0.27031139319303216\n",
      "INFO: iteration 8: RMSE = 0.2629523235512186\n",
      "INFO: iteration 9: RMSE = 0.256850627568278\n",
      "INFO: iteration 10: RMSE = 0.25168352079204676\n",
      "INFO: iteration 11: RMSE = 0.24723545865900393\n",
      "INFO: iteration 12: RMSE = 0.2433533277546159\n",
      "INFO: iteration 13: RMSE = 0.23992384384369406\n",
      "INFO: iteration 14: RMSE = 0.2368636312570362\n",
      "INFO: iteration 15: RMSE = 0.23411191971979795\n",
      "INFO: iteration 16: RMSE = 0.23162261369384707\n",
      "INFO: iteration 17: RMSE = 0.229358706432097\n",
      "INFO: iteration 18: RMSE = 0.2272897261472726\n",
      "INFO: iteration 19: RMSE = 0.22539036623071773\n",
      "INFO: iteration 20: RMSE = 0.223639427678969\n"
     ]
    },
    {
     "name": "stdout",
     "output_type": "stream",
     "text": [
      "CPU times: user 16min 41s, sys: 2.26 s, total: 16min 43s\n",
      "Wall time: 4min 15s\n"
     ]
    }
   ],
   "source": [
    "%%time\n",
    "\n",
    "als = ALS(\n",
    "    n_features = 100,\n",
    "    user_column_header = \"userId\",\n",
    "    item_column_header = \"movieId\",\n",
    "    rating_column_header = \"rating\",\n",
    "    max_iter = 20\n",
    ")\n",
    "\n",
    "als.fit(rating_matrix = ratings)"
   ]
  },
  {
   "cell_type": "code",
   "execution_count": 20,
   "metadata": {},
   "outputs": [
    {
     "data": {
      "text/plain": [
       "(6034, 100)"
      ]
     },
     "execution_count": 20,
     "metadata": {},
     "output_type": "execute_result"
    }
   ],
   "source": [
    "als.U.shape"
   ]
  },
  {
   "cell_type": "code",
   "execution_count": 21,
   "metadata": {},
   "outputs": [
    {
     "data": {
      "text/plain": [
       "(13771, 100)"
      ]
     },
     "execution_count": 21,
     "metadata": {},
     "output_type": "execute_result"
    }
   ],
   "source": [
    "als.V.shape"
   ]
  },
  {
   "cell_type": "code",
   "execution_count": 22,
   "metadata": {},
   "outputs": [
    {
     "data": {
      "text/plain": [
       "5.04720781707735"
      ]
     },
     "execution_count": 22,
     "metadata": {},
     "output_type": "execute_result"
    }
   ],
   "source": [
    "als.predict_rating(10, 145)"
   ]
  },
  {
   "cell_type": "code",
   "execution_count": 23,
   "metadata": {},
   "outputs": [
    {
     "data": {
      "text/plain": [
       "np.float64(5.0)"
      ]
     },
     "execution_count": 23,
     "metadata": {},
     "output_type": "execute_result"
    }
   ],
   "source": [
    "als.R[10, 145]"
   ]
  },
  {
   "cell_type": "markdown",
   "metadata": {},
   "source": [
    "We see here that more latent factors lead to less training errors; at the expense of training and inference time. In situations where large amounts of latent factors are called, stochastic gradient descent should be used to estimate the entries of the factor matrices."
   ]
  }
 ],
 "metadata": {
  "kernelspec": {
   "display_name": "rec-sys",
   "language": "python",
   "name": "python3"
  },
  "language_info": {
   "codemirror_mode": {
    "name": "ipython",
    "version": 3
   },
   "file_extension": ".py",
   "mimetype": "text/x-python",
   "name": "python",
   "nbconvert_exporter": "python",
   "pygments_lexer": "ipython3",
   "version": "3.10.14"
  }
 },
 "nbformat": 4,
 "nbformat_minor": 4
}
