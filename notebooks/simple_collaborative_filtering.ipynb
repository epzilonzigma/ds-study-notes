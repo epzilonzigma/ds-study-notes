{
 "cells": [
  {
   "cell_type": "markdown",
   "metadata": {},
   "source": [
    "# Simple Collaborative Filtering\n",
    "\n",
    "This notebook is a overly simplified illustration of collaborative filtering on a user-product matrix based on the critics data from Toby Segaran's \"Programming Collective Intelligence\" book. Below is a preview of the critics dataset."
   ]
  },
  {
   "cell_type": "code",
   "execution_count": 1,
   "metadata": {},
   "outputs": [
    {
     "name": "stdout",
     "output_type": "stream",
     "text": [
      "(42, 3)\n"
     ]
    },
    {
     "data": {
      "text/html": [
       "<div>\n",
       "<style scoped>\n",
       "    .dataframe tbody tr th:only-of-type {\n",
       "        vertical-align: middle;\n",
       "    }\n",
       "\n",
       "    .dataframe tbody tr th {\n",
       "        vertical-align: top;\n",
       "    }\n",
       "\n",
       "    .dataframe thead th {\n",
       "        text-align: right;\n",
       "    }\n",
       "</style>\n",
       "<table border=\"1\" class=\"dataframe\">\n",
       "  <thead>\n",
       "    <tr style=\"text-align: right;\">\n",
       "      <th></th>\n",
       "      <th>User</th>\n",
       "      <th>Movie</th>\n",
       "      <th>Rating</th>\n",
       "    </tr>\n",
       "  </thead>\n",
       "  <tbody>\n",
       "    <tr>\n",
       "      <th>0</th>\n",
       "      <td>Lisa Rose</td>\n",
       "      <td>Lady in the Water</td>\n",
       "      <td>2.5</td>\n",
       "    </tr>\n",
       "    <tr>\n",
       "      <th>1</th>\n",
       "      <td>Lisa Rose</td>\n",
       "      <td>Snakes on a Plane</td>\n",
       "      <td>3.5</td>\n",
       "    </tr>\n",
       "    <tr>\n",
       "      <th>2</th>\n",
       "      <td>Lisa Rose</td>\n",
       "      <td>Just My Luck</td>\n",
       "      <td>3.0</td>\n",
       "    </tr>\n",
       "    <tr>\n",
       "      <th>3</th>\n",
       "      <td>Lisa Rose</td>\n",
       "      <td>Superman Returns</td>\n",
       "      <td>3.5</td>\n",
       "    </tr>\n",
       "    <tr>\n",
       "      <th>4</th>\n",
       "      <td>Lisa Rose</td>\n",
       "      <td>You, Me and Dupree</td>\n",
       "      <td>2.5</td>\n",
       "    </tr>\n",
       "  </tbody>\n",
       "</table>\n",
       "</div>"
      ],
      "text/plain": [
       "        User               Movie  Rating\n",
       "0  Lisa Rose   Lady in the Water     2.5\n",
       "1  Lisa Rose   Snakes on a Plane     3.5\n",
       "2  Lisa Rose        Just My Luck     3.0\n",
       "3  Lisa Rose    Superman Returns     3.5\n",
       "4  Lisa Rose  You, Me and Dupree     2.5"
      ]
     },
     "execution_count": 1,
     "metadata": {},
     "output_type": "execute_result"
    }
   ],
   "source": [
    "import numpy as np\n",
    "import pandas as pd\n",
    "import warnings\n",
    "\n",
    "warnings.filterwarnings(\"ignore\")\n",
    "\n",
    "critics = pd.read_csv(\"../data/critics/critics.csv\")\n",
    "print(critics.shape)\n",
    "critics.head()"
   ]
  },
  {
   "cell_type": "markdown",
   "metadata": {},
   "source": [
    "## Intuition and overall process\n",
    "\n",
    "The overall intuition of naive collaborative filtering is to:\n",
    "1. Identify \"similar\" users in user item matrix \n",
    "2. Estimate what the user's rating for an unknown item would be based on similar users\n",
    "\n",
    "There are many ways of estimating the \"similarity\" between users."
   ]
  },
  {
   "cell_type": "markdown",
   "metadata": {},
   "source": [
    "## Estimating similarity\n",
    "\n",
    "### User item matrix\n",
    "\n",
    "For better visual, let's turn the critic dataset into something more resembling of a user-item matrix."
   ]
  },
  {
   "cell_type": "code",
   "execution_count": 2,
   "metadata": {},
   "outputs": [
    {
     "data": {
      "text/html": [
       "<div>\n",
       "<style scoped>\n",
       "    .dataframe tbody tr th:only-of-type {\n",
       "        vertical-align: middle;\n",
       "    }\n",
       "\n",
       "    .dataframe tbody tr th {\n",
       "        vertical-align: top;\n",
       "    }\n",
       "\n",
       "    .dataframe thead th {\n",
       "        text-align: right;\n",
       "    }\n",
       "</style>\n",
       "<table border=\"1\" class=\"dataframe\">\n",
       "  <thead>\n",
       "    <tr style=\"text-align: right;\">\n",
       "      <th>Movie</th>\n",
       "      <th>Just My Luck</th>\n",
       "      <th>Lady in the Water</th>\n",
       "      <th>Snakes on a Plane</th>\n",
       "      <th>Superman Returns</th>\n",
       "      <th>The Night Listener</th>\n",
       "      <th>You, Me and Dupree</th>\n",
       "    </tr>\n",
       "    <tr>\n",
       "      <th>User</th>\n",
       "      <th></th>\n",
       "      <th></th>\n",
       "      <th></th>\n",
       "      <th></th>\n",
       "      <th></th>\n",
       "      <th></th>\n",
       "    </tr>\n",
       "  </thead>\n",
       "  <tbody>\n",
       "    <tr>\n",
       "      <th>Claudia Puig</th>\n",
       "      <td>3.0</td>\n",
       "      <td>NaN</td>\n",
       "      <td>3.5</td>\n",
       "      <td>4.0</td>\n",
       "      <td>4.5</td>\n",
       "      <td>2.5</td>\n",
       "    </tr>\n",
       "    <tr>\n",
       "      <th>Gene Seymour</th>\n",
       "      <td>1.5</td>\n",
       "      <td>3.0</td>\n",
       "      <td>3.5</td>\n",
       "      <td>5.0</td>\n",
       "      <td>3.0</td>\n",
       "      <td>3.5</td>\n",
       "    </tr>\n",
       "    <tr>\n",
       "      <th>Jack Matthews</th>\n",
       "      <td>NaN</td>\n",
       "      <td>3.0</td>\n",
       "      <td>4.0</td>\n",
       "      <td>5.0</td>\n",
       "      <td>3.0</td>\n",
       "      <td>3.5</td>\n",
       "    </tr>\n",
       "    <tr>\n",
       "      <th>Lisa Rose</th>\n",
       "      <td>3.0</td>\n",
       "      <td>2.5</td>\n",
       "      <td>3.5</td>\n",
       "      <td>3.5</td>\n",
       "      <td>3.0</td>\n",
       "      <td>2.5</td>\n",
       "    </tr>\n",
       "    <tr>\n",
       "      <th>Michael Phillips</th>\n",
       "      <td>NaN</td>\n",
       "      <td>2.5</td>\n",
       "      <td>3.0</td>\n",
       "      <td>3.5</td>\n",
       "      <td>4.0</td>\n",
       "      <td>NaN</td>\n",
       "    </tr>\n",
       "    <tr>\n",
       "      <th>Mick LaSalle</th>\n",
       "      <td>2.0</td>\n",
       "      <td>3.0</td>\n",
       "      <td>4.0</td>\n",
       "      <td>3.0</td>\n",
       "      <td>3.0</td>\n",
       "      <td>2.0</td>\n",
       "    </tr>\n",
       "    <tr>\n",
       "      <th>Toby</th>\n",
       "      <td>NaN</td>\n",
       "      <td>NaN</td>\n",
       "      <td>4.5</td>\n",
       "      <td>4.0</td>\n",
       "      <td>NaN</td>\n",
       "      <td>1.0</td>\n",
       "    </tr>\n",
       "  </tbody>\n",
       "</table>\n",
       "</div>"
      ],
      "text/plain": [
       "Movie             Just My Luck  Lady in the Water  Snakes on a Plane  \\\n",
       "User                                                                   \n",
       "Claudia Puig               3.0                NaN                3.5   \n",
       "Gene Seymour               1.5                3.0                3.5   \n",
       "Jack Matthews              NaN                3.0                4.0   \n",
       "Lisa Rose                  3.0                2.5                3.5   \n",
       "Michael Phillips           NaN                2.5                3.0   \n",
       "Mick LaSalle               2.0                3.0                4.0   \n",
       "Toby                       NaN                NaN                4.5   \n",
       "\n",
       "Movie             Superman Returns  The Night Listener  You, Me and Dupree  \n",
       "User                                                                        \n",
       "Claudia Puig                   4.0                 4.5                 2.5  \n",
       "Gene Seymour                   5.0                 3.0                 3.5  \n",
       "Jack Matthews                  5.0                 3.0                 3.5  \n",
       "Lisa Rose                      3.5                 3.0                 2.5  \n",
       "Michael Phillips               3.5                 4.0                 NaN  \n",
       "Mick LaSalle                   3.0                 3.0                 2.0  \n",
       "Toby                           4.0                 NaN                 1.0  "
      ]
     },
     "execution_count": 2,
     "metadata": {},
     "output_type": "execute_result"
    }
   ],
   "source": [
    "critics_matrix = critics.pivot(index = \"User\", columns = \"Movie\", values = \"Rating\")\n",
    "critics_matrix"
   ]
  },
  {
   "cell_type": "markdown",
   "metadata": {},
   "source": [
    "Suppose in this case, we are trying to predict what rating Toby would give to \"The Night Listener\". The first step will be to identify how similar Toby is to all other users.\n",
    "\n",
    "### Estimating similarities\n",
    "\n",
    "There are many ways of calculating similarities between the users. We will focus on the following measures in this notebook:\n",
    "- Pearson correlation\n",
    "- Cosine similarity\n",
    "- Euclidean distance\n",
    "\n",
    "In the case of the above user-item matrix, similarities will be calculated for all row vectors against Toby's row vector."
   ]
  },
  {
   "cell_type": "code",
   "execution_count": 3,
   "metadata": {},
   "outputs": [
    {
     "data": {
      "text/plain": [
       "{'Claudia Puig': 0.8934051474415642,\n",
       " 'Gene Seymour': 0.3812464258315117,\n",
       " 'Jack Matthews': 0.6628489803598702,\n",
       " 'Lisa Rose': 0.9912407071619304,\n",
       " 'Michael Phillips': -0.9999999999999999,\n",
       " 'Mick LaSalle': 0.924473451641905}"
      ]
     },
     "execution_count": 3,
     "metadata": {},
     "output_type": "execute_result"
    }
   ],
   "source": [
    "def calculate_pearson_correlation(matrix: pd.DataFrame, user: str) -> dict:\n",
    "    remaining_user_list = list(matrix.index)\n",
    "    remaining_user_list.remove(user)\n",
    "\n",
    "    user_corr = {}\n",
    "\n",
    "    for u in remaining_user_list:\n",
    "        target_user_vector = matrix.loc[user].to_numpy()\n",
    "        user_vector = matrix.loc[u].to_numpy()\n",
    "        bad = ~np.logical_or(np.isnan(target_user_vector), np.isnan(user_vector))\n",
    "\n",
    "        target_user_vector = np.compress(bad, target_user_vector)\n",
    "        user_vector = np.compress(bad, user_vector)\n",
    "\n",
    "        corr_matrix = np.corrcoef(target_user_vector, user_vector)\n",
    "        user_corr[u] = float(corr_matrix[0, 1])\n",
    "    \n",
    "    return user_corr\n",
    "\n",
    "pearson_correlation = calculate_pearson_correlation(critics_matrix, \"Toby\")\n",
    "pearson_correlation\n"
   ]
  },
  {
   "cell_type": "code",
   "execution_count": 4,
   "metadata": {},
   "outputs": [
    {
     "data": {
      "text/plain": [
       "{'Claudia Puig': 0.04459416410942463,\n",
       " 'Gene Seymour': 0.08594164421271389,\n",
       " 'Jack Matthews': 0.06819475196784597,\n",
       " 'Lisa Rose': 0.04710725503783031,\n",
       " 'Michael Phillips': 0.009169831955701091,\n",
       " 'Mick LaSalle': 0.026383689432199042}"
      ]
     },
     "execution_count": 4,
     "metadata": {},
     "output_type": "execute_result"
    }
   ],
   "source": [
    "from scipy.spatial import distance\n",
    "\n",
    "def calculate_cosine_distance(matrix: pd.DataFrame, user: str) -> dict:\n",
    "    remaining_user_list = list(matrix.index)\n",
    "    remaining_user_list.remove(user)\n",
    "\n",
    "    cosine = {}\n",
    "\n",
    "    for u in remaining_user_list:\n",
    "        target_user_vector = matrix.loc[user].to_numpy()\n",
    "        user_vector = matrix.loc[u].to_numpy()\n",
    "        bad = ~np.logical_or(np.isnan(target_user_vector), np.isnan(user_vector))\n",
    "\n",
    "        target_user_vector = np.compress(bad, target_user_vector)\n",
    "        user_vector = np.compress(bad, user_vector)\n",
    "\n",
    "        cosine_measure = distance.cosine(target_user_vector, user_vector)\n",
    "        cosine[u] = float(cosine_measure)\n",
    "\n",
    "    return cosine\n",
    "\n",
    "cosine_distance = calculate_cosine_distance(critics_matrix, \"Toby\")\n",
    "cosine_distance"
   ]
  },
  {
   "cell_type": "code",
   "execution_count": 5,
   "metadata": {},
   "outputs": [
    {
     "data": {
      "text/plain": [
       "{'Claudia Puig': 1.8027756377319948,\n",
       " 'Gene Seymour': 2.8722813232690143,\n",
       " 'Jack Matthews': 2.73861278752583,\n",
       " 'Lisa Rose': 1.8708286933869704,\n",
       " 'Michael Phillips': 1.5811388300841898,\n",
       " 'Mick LaSalle': 1.5}"
      ]
     },
     "execution_count": 5,
     "metadata": {},
     "output_type": "execute_result"
    }
   ],
   "source": [
    "def calculate_euclidian_distance(matrix: pd.DataFrame, user: str) -> dict:\n",
    "    remaining_user_list = list(matrix.index)\n",
    "    remaining_user_list.remove(user)\n",
    "\n",
    "    euclidean = {}\n",
    "\n",
    "    for u in remaining_user_list:\n",
    "        target_user_vector = matrix.loc[user].to_numpy()\n",
    "        user_vector = matrix.loc[u].to_numpy()\n",
    "        bad = ~np.logical_or(np.isnan(target_user_vector), np.isnan(user_vector))\n",
    "\n",
    "        target_user_vector = np.compress(bad, target_user_vector)\n",
    "        user_vector = np.compress(bad, user_vector)\n",
    "\n",
    "        cosine_measure = distance.euclidean(target_user_vector, user_vector)\n",
    "        euclidean[u] = float(cosine_measure)\n",
    "\n",
    "    return euclidean\n",
    "\n",
    "euclidean_distance = calculate_euclidian_distance(critics_matrix, \"Toby\")\n",
    "euclidean_distance"
   ]
  },
  {
   "cell_type": "markdown",
   "metadata": {},
   "source": [
    "### Estimating ratings\n",
    "\n",
    "With the similarity measures calculated, we can then use it to estimate what each user will give to \"The Night Listener\" and other movies if they are in Toby's shoes. There are 2 naive approaches we can go with this:\n",
    "\n",
    "1. Find the most similar K users to Toby and calculate an average of their applicable ratings of \"The Night Listener\"\n",
    "2. Using the similarity measures as weights, calculate a weighted average amongst ALL existing ratings of \"The Night Listener\"\n",
    "\n",
    "It is obvious to see that going with approach 1 will bring problems. Here are some of the problems just to think about:\n",
    "- what is the fair K? (especially in this case when we only have 6 other users)\n",
    "- the similarity measure become useless once the filtered list of similar users is selected\n",
    "- what if all the \"similar\" users didn't watch \"The Night Listener\"?\n",
    "\n",
    "We will proceed with approach 2. The predicted rating of Toby for \"The Night Listener\" will be calculated using the following weighted average expression:\n",
    "\n",
    "$$\n",
    "    Rating_{Toby, The Night Listener} = \\sum_{u}^{not Toby} \\frac{R_{u, The Night Listener} \\cdot S_{Toby, u}}{\\sum_{v}^{not Toby} S_{Toby, v}}\n",
    "$$\n",
    "\n",
    "R = rating for respective user for The Night Listener \\\n",
    "S = similarity measure between respective user and Toby"
   ]
  },
  {
   "cell_type": "code",
   "execution_count": 6,
   "metadata": {},
   "outputs": [
    {
     "data": {
      "text/html": [
       "<div>\n",
       "<style scoped>\n",
       "    .dataframe tbody tr th:only-of-type {\n",
       "        vertical-align: middle;\n",
       "    }\n",
       "\n",
       "    .dataframe tbody tr th {\n",
       "        vertical-align: top;\n",
       "    }\n",
       "\n",
       "    .dataframe thead th {\n",
       "        text-align: right;\n",
       "    }\n",
       "</style>\n",
       "<table border=\"1\" class=\"dataframe\">\n",
       "  <thead>\n",
       "    <tr style=\"text-align: right;\">\n",
       "      <th></th>\n",
       "      <th>User</th>\n",
       "      <th>Movie</th>\n",
       "      <th>Rating</th>\n",
       "      <th>pearson</th>\n",
       "      <th>cosine</th>\n",
       "      <th>euclidean</th>\n",
       "    </tr>\n",
       "  </thead>\n",
       "  <tbody>\n",
       "    <tr>\n",
       "      <th>5</th>\n",
       "      <td>Lisa Rose</td>\n",
       "      <td>The Night Listener</td>\n",
       "      <td>3.0</td>\n",
       "      <td>0.991241</td>\n",
       "      <td>0.047107</td>\n",
       "      <td>1.870829</td>\n",
       "    </tr>\n",
       "    <tr>\n",
       "      <th>11</th>\n",
       "      <td>Gene Seymour</td>\n",
       "      <td>The Night Listener</td>\n",
       "      <td>3.0</td>\n",
       "      <td>0.381246</td>\n",
       "      <td>0.085942</td>\n",
       "      <td>2.872281</td>\n",
       "    </tr>\n",
       "    <tr>\n",
       "      <th>17</th>\n",
       "      <td>Michael Phillips</td>\n",
       "      <td>The Night Listener</td>\n",
       "      <td>4.0</td>\n",
       "      <td>-1.000000</td>\n",
       "      <td>0.009170</td>\n",
       "      <td>1.581139</td>\n",
       "    </tr>\n",
       "    <tr>\n",
       "      <th>23</th>\n",
       "      <td>Claudia Puig</td>\n",
       "      <td>The Night Listener</td>\n",
       "      <td>4.5</td>\n",
       "      <td>0.893405</td>\n",
       "      <td>0.044594</td>\n",
       "      <td>1.802776</td>\n",
       "    </tr>\n",
       "    <tr>\n",
       "      <th>29</th>\n",
       "      <td>Mick LaSalle</td>\n",
       "      <td>The Night Listener</td>\n",
       "      <td>3.0</td>\n",
       "      <td>0.924473</td>\n",
       "      <td>0.026384</td>\n",
       "      <td>1.500000</td>\n",
       "    </tr>\n",
       "    <tr>\n",
       "      <th>35</th>\n",
       "      <td>Jack Matthews</td>\n",
       "      <td>The Night Listener</td>\n",
       "      <td>3.0</td>\n",
       "      <td>0.662849</td>\n",
       "      <td>0.068195</td>\n",
       "      <td>2.738613</td>\n",
       "    </tr>\n",
       "  </tbody>\n",
       "</table>\n",
       "</div>"
      ],
      "text/plain": [
       "                User               Movie  Rating   pearson    cosine  \\\n",
       "5          Lisa Rose  The Night Listener     3.0  0.991241  0.047107   \n",
       "11      Gene Seymour  The Night Listener     3.0  0.381246  0.085942   \n",
       "17  Michael Phillips  The Night Listener     4.0 -1.000000  0.009170   \n",
       "23      Claudia Puig  The Night Listener     4.5  0.893405  0.044594   \n",
       "29      Mick LaSalle  The Night Listener     3.0  0.924473  0.026384   \n",
       "35     Jack Matthews  The Night Listener     3.0  0.662849  0.068195   \n",
       "\n",
       "    euclidean  \n",
       "5    1.870829  \n",
       "11   2.872281  \n",
       "17   1.581139  \n",
       "23   1.802776  \n",
       "29   1.500000  \n",
       "35   2.738613  "
      ]
     },
     "execution_count": 6,
     "metadata": {},
     "output_type": "execute_result"
    }
   ],
   "source": [
    "the_night_listener = critics[(critics[\"Movie\"] == \"The Night Listener\") & (critics[\"User\"] != \"Toby\")]\n",
    "\n",
    "the_night_listener[\"pearson\"] = the_night_listener[\"User\"].map(pearson_correlation)\n",
    "the_night_listener[\"cosine\"] = the_night_listener[\"User\"].map(cosine_distance)\n",
    "the_night_listener[\"euclidean\"] = the_night_listener[\"User\"].map(euclidean_distance)\n",
    "\n",
    "pearson_denominator = the_night_listener[\"pearson\"].sum()\n",
    "cosine_denominator = the_night_listener[\"cosine\"].sum()\n",
    "euclidean_denominator = the_night_listener[\"euclidean\"].sum()\n",
    "\n",
    "the_night_listener"
   ]
  },
  {
   "cell_type": "code",
   "execution_count": 7,
   "metadata": {},
   "outputs": [
    {
     "data": {
      "text/plain": [
       "3.1192015867855516"
      ]
     },
     "execution_count": 7,
     "metadata": {},
     "output_type": "execute_result"
    }
   ],
   "source": [
    "# Pearson estimation\n",
    "\n",
    "float((the_night_listener[\"Rating\"] * the_night_listener[\"pearson\"]).sum()/pearson_denominator)"
   ]
  },
  {
   "cell_type": "code",
   "execution_count": 8,
   "metadata": {},
   "outputs": [
    {
     "data": {
      "text/plain": [
       "3.2703035530787545"
      ]
     },
     "execution_count": 8,
     "metadata": {},
     "output_type": "execute_result"
    }
   ],
   "source": [
    "# cosine estimation\n",
    "\n",
    "float((the_night_listener[\"Rating\"] * the_night_listener[\"cosine\"]).sum()/cosine_denominator)"
   ]
  },
  {
   "cell_type": "code",
   "execution_count": 9,
   "metadata": {},
   "outputs": [
    {
     "data": {
      "text/plain": [
       "3.346549247112904"
      ]
     },
     "execution_count": 9,
     "metadata": {},
     "output_type": "execute_result"
    }
   ],
   "source": [
    "# Euclidean estimation\n",
    "\n",
    "float((the_night_listener[\"Rating\"] * the_night_listener[\"euclidean\"]).sum()/euclidean_denominator)"
   ]
  },
  {
   "cell_type": "markdown",
   "metadata": {},
   "source": [
    "## Implementation\n",
    "\n",
    "Below is an code snippet for simple implementation of the what was discussed above."
   ]
  },
  {
   "cell_type": "code",
   "execution_count": 10,
   "metadata": {},
   "outputs": [
    {
     "data": {
      "text/plain": [
       "3.2703035530787545"
      ]
     },
     "execution_count": 10,
     "metadata": {},
     "output_type": "execute_result"
    }
   ],
   "source": [
    "import sys\n",
    "sys.path.append(\"../src\")\n",
    "\n",
    "from naive.user_collaborative_filter import UserCollaborativeFilter\n",
    "\n",
    "ucf = UserCollaborativeFilter(critics, user_column=\"User\", item_column=\"Movie\", rating_column=\"Rating\")\n",
    "ucf.fit()\n",
    "ucf.predict(user=\"Toby\", item=\"The Night Listener\")"
   ]
  },
  {
   "cell_type": "code",
   "execution_count": null,
   "metadata": {},
   "outputs": [],
   "source": []
  }
 ],
 "metadata": {
  "kernelspec": {
   "display_name": "Python 3 (ipykernel)",
   "language": "python",
   "name": "python3"
  },
  "language_info": {
   "codemirror_mode": {
    "name": "ipython",
    "version": 3
   },
   "file_extension": ".py",
   "mimetype": "text/x-python",
   "name": "python",
   "nbconvert_exporter": "python",
   "pygments_lexer": "ipython3",
   "version": "3.10.14"
  }
 },
 "nbformat": 4,
 "nbformat_minor": 4
}
